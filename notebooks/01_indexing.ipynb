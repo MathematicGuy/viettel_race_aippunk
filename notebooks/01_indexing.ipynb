{
 "cells": [
  {
   "cell_type": "code",
   "execution_count": 14,
   "id": "85029350",
   "metadata": {},
   "outputs": [],
   "source": [
    "import os, sys\n",
    "sys.path.append(\"..\")"
   ]
  },
  {
   "cell_type": "code",
   "execution_count": 15,
   "id": "b55536df",
   "metadata": {},
   "outputs": [],
   "source": [
    "from src.index import process_and_index_directory"
   ]
  },
  {
   "cell_type": "code",
   "execution_count": null,
   "id": "480680ae",
   "metadata": {},
   "outputs": [],
   "source": [
    "from src.config import config"
   ]
  },
  {
   "cell_type": "code",
   "execution_count": 17,
   "id": "23a95ebf",
   "metadata": {},
   "outputs": [
    {
     "name": "stdout",
     "output_type": "stream",
     "text": [
      "d:\\VIETTEL_RACE\\qa-mcq-rag\\mcqaRAG_p2\\notebooks\n"
     ]
    },
    {
     "data": {
      "text/plain": [
       "['attention.pdf',\n",
       " 'Public001.pdf',\n",
       " 'Public002.pdf',\n",
       " 'Public003.pdf',\n",
       " 'Public004.pdf',\n",
       " 'Public005.pdf',\n",
       " 'Public040.pdf',\n",
       " 'Public043.pdf',\n",
       " 'Public048.pdf',\n",
       " 'Public051.pdf']"
      ]
     },
     "execution_count": 17,
     "metadata": {},
     "output_type": "execute_result"
    }
   ],
   "source": [
    "doc_dir = \"../private-test-input\"\n",
    "print(os.getcwd())\n",
    "os.listdir(doc_dir)"
   ]
  },
  {
   "cell_type": "code",
   "execution_count": 18,
   "id": "dbcfcf01",
   "metadata": {},
   "outputs": [],
   "source": [
    "# config = ConfigLoader(\"../config.yaml\")\n",
    "# chunker = get_chunker(config=config)\n",
    "# pdf_pipeline_options = config.get_pdf_pipeline_options()\n",
    "# converter = get_document_converter(pdf_pipeline_options)"
   ]
  },
  {
   "cell_type": "code",
   "execution_count": 19,
   "id": "a807cadd",
   "metadata": {},
   "outputs": [],
   "source": [
    "# files = os.listdir(doc_dir)"
   ]
  },
  {
   "cell_type": "code",
   "execution_count": 20,
   "id": "381da477",
   "metadata": {},
   "outputs": [],
   "source": [
    "# docs = process_file(f\"{doc_dir}/{files[0]}\", converter=converter, chunker=chunker, namespace=\"viettel\")"
   ]
  },
  {
   "cell_type": "code",
   "execution_count": 21,
   "id": "aec99c8b",
   "metadata": {},
   "outputs": [],
   "source": [
    "# len(docs)"
   ]
  },
  {
   "cell_type": "code",
   "execution_count": 22,
   "id": "d74717e0",
   "metadata": {},
   "outputs": [],
   "source": [
    "# for doc in docs:\n",
    "#     print(\"============= Doc: {}, Page no: {} =============\".format(doc.metadata[\"source\"], doc.metadata[\"page_no\"]))\n",
    "#     print(doc.page_content)\n",
    "#     print(\"\")"
   ]
  },
  {
   "cell_type": "markdown",
   "id": "0eb5fe71",
   "metadata": {},
   "source": [
    "# Processing whole folder"
   ]
  },
  {
   "cell_type": "code",
   "execution_count": 23,
   "id": "666a1edd",
   "metadata": {},
   "outputs": [],
   "source": [
    "config.set(\"database\", \"collection_name\", \"doc_2_db\")"
   ]
  },
  {
   "cell_type": "code",
   "execution_count": 24,
   "id": "befe0e82",
   "metadata": {},
   "outputs": [
    {
     "name": "stderr",
     "output_type": "stream",
     "text": [
      "2025-10-18 19:40:03,058 - src.index - INFO - Found 10 files to process\n",
      "2025-10-18 19:40:03,058 - INFO - Found 10 files to process\n",
      "2025-10-18 19:40:05,536 - src.milvus_store - INFO - Database 'gil' already exists.\n",
      "2025-10-18 19:40:05,536 - INFO - Database 'gil' already exists.\n",
      "2025-10-18 19:40:05,649 - src.milvus_store - INFO - Collection 'doc_2_db' đã bị xoá khỏi database 'gil'.\n",
      "2025-10-18 19:40:05,649 - INFO - Collection 'doc_2_db' đã bị xoá khỏi database 'gil'.\n",
      "2025-10-18 19:40:05,649 - INFO - Use pytorch device_name: cuda\n",
      "2025-10-18 19:40:05,649 - INFO - Load pretrained SentenceTransformer: sentence-transformers/paraphrase-multilingual-mpnet-base-v2\n",
      "2025-10-18 19:40:12,021 - src.index - INFO - Processing ..\\private-test-input\\attention.pdf...\n",
      "2025-10-18 19:40:12,021 - INFO - Processing ..\\private-test-input\\attention.pdf...\n",
      "2025-10-18 19:40:12,022 - INFO - detected formats: [<InputFormat.PDF: 'pdf'>]\n",
      "2025-10-18 19:40:12,034 - INFO - Going to convert document batch...\n",
      "2025-10-18 19:40:12,035 - INFO - Initializing pipeline for StandardPdfPipeline with options hash 9b3edd4e7251ac31c3dcc3dcaa890dd9\n",
      "2025-10-18 19:40:12,037 - INFO - rapidocr cannot be used because onnxruntime is not installed.\n",
      "2025-10-18 19:40:12,040 - INFO - easyocr cannot be used because it is not installed.\n",
      "2025-10-18 19:40:12,041 - INFO - Accelerator device: 'cuda:0'\n",
      "\u001b[32m[INFO] 2025-10-18 19:40:12,056 [RapidOCR] base.py:22: Using engine_name: torch\u001b[0m\n",
      "\u001b[32m[INFO] 2025-10-18 19:40:12,073 [RapidOCR] download_file.py:60: File exists and is valid: D:\\Utilities\\miniconda\\envs\\agen\\Lib\\site-packages\\rapidocr\\models\\ch_PP-OCRv4_det_infer.pth\u001b[0m\n",
      "\u001b[32m[INFO] 2025-10-18 19:40:12,074 [RapidOCR] torch.py:54: Using D:\\Utilities\\miniconda\\envs\\agen\\Lib\\site-packages\\rapidocr\\models\\ch_PP-OCRv4_det_infer.pth\u001b[0m\n",
      "\u001b[32m[INFO] 2025-10-18 19:40:12,233 [RapidOCR] base.py:22: Using engine_name: torch\u001b[0m\n",
      "\u001b[32m[INFO] 2025-10-18 19:40:12,235 [RapidOCR] download_file.py:60: File exists and is valid: D:\\Utilities\\miniconda\\envs\\agen\\Lib\\site-packages\\rapidocr\\models\\ch_ptocr_mobile_v2.0_cls_infer.pth\u001b[0m\n",
      "\u001b[32m[INFO] 2025-10-18 19:40:12,236 [RapidOCR] torch.py:54: Using D:\\Utilities\\miniconda\\envs\\agen\\Lib\\site-packages\\rapidocr\\models\\ch_ptocr_mobile_v2.0_cls_infer.pth\u001b[0m\n",
      "\u001b[32m[INFO] 2025-10-18 19:40:12,299 [RapidOCR] base.py:22: Using engine_name: torch\u001b[0m\n",
      "\u001b[32m[INFO] 2025-10-18 19:40:12,322 [RapidOCR] download_file.py:60: File exists and is valid: D:\\Utilities\\miniconda\\envs\\agen\\Lib\\site-packages\\rapidocr\\models\\ch_PP-OCRv4_rec_infer.pth\u001b[0m\n",
      "\u001b[32m[INFO] 2025-10-18 19:40:12,323 [RapidOCR] torch.py:54: Using D:\\Utilities\\miniconda\\envs\\agen\\Lib\\site-packages\\rapidocr\\models\\ch_PP-OCRv4_rec_infer.pth\u001b[0m\n",
      "2025-10-18 19:40:12,841 - INFO - Auto OCR model selected rapidocr with torch.\n",
      "2025-10-18 19:40:12,842 - INFO - Accelerator device: 'cuda:0'\n",
      "2025-10-18 19:40:14,310 - INFO - Accelerator device: 'cuda:0'\n",
      "2025-10-18 19:40:14,896 - INFO - Processing document attention.pdf\n",
      "2025-10-18 19:40:48,695 - INFO - Finished converting document attention.pdf in 36.67 sec.\n",
      "Token indices sequence length is longer than the specified maximum sequence length for this model (995 > 512). Running this sequence through the model will result in indexing errors\n",
      "2025-10-18 19:40:49,120 - src.index - INFO - Processing ..\\private-test-input\\Public001.pdf...\n",
      "2025-10-18 19:40:49,120 - INFO - Processing ..\\private-test-input\\Public001.pdf...\n",
      "2025-10-18 19:40:49,122 - INFO - detected formats: [<InputFormat.PDF: 'pdf'>]\n",
      "2025-10-18 19:40:49,130 - INFO - Going to convert document batch...\n",
      "2025-10-18 19:40:49,132 - INFO - Processing document Public001.pdf\n",
      "2025-10-18 19:40:54,263 - INFO - Finished converting document Public001.pdf in 5.14 sec.\n",
      "2025-10-18 19:40:55,281 - src.index - INFO - Processing ..\\private-test-input\\Public002.pdf...\n",
      "2025-10-18 19:40:55,281 - INFO - Processing ..\\private-test-input\\Public002.pdf...\n",
      "2025-10-18 19:40:55,284 - INFO - detected formats: [<InputFormat.PDF: 'pdf'>]\n",
      "2025-10-18 19:40:55,288 - INFO - Going to convert document batch...\n",
      "2025-10-18 19:40:55,288 - INFO - Processing document Public002.pdf\n",
      "2025-10-18 19:40:59,331 - INFO - Finished converting document Public002.pdf in 4.05 sec.\n",
      "2025-10-18 19:40:59,454 - src.index - INFO - Processing ..\\private-test-input\\Public003.pdf...\n",
      "2025-10-18 19:40:59,454 - INFO - Processing ..\\private-test-input\\Public003.pdf...\n",
      "2025-10-18 19:40:59,456 - INFO - detected formats: [<InputFormat.PDF: 'pdf'>]\n",
      "2025-10-18 19:40:59,456 - INFO - Going to convert document batch...\n",
      "2025-10-18 19:40:59,456 - INFO - Processing document Public003.pdf\n",
      "2025-10-18 19:41:11,267 - INFO - Finished converting document Public003.pdf in 11.81 sec.\n",
      "2025-10-18 19:41:12,075 - src.index - INFO - Processing ..\\private-test-input\\Public004.pdf...\n",
      "2025-10-18 19:41:12,075 - INFO - Processing ..\\private-test-input\\Public004.pdf...\n",
      "2025-10-18 19:41:12,075 - INFO - detected formats: [<InputFormat.PDF: 'pdf'>]\n",
      "2025-10-18 19:41:12,075 - INFO - Going to convert document batch...\n",
      "2025-10-18 19:41:12,081 - INFO - Processing document Public004.pdf\n",
      "2025-10-18 19:41:14,940 - INFO - Finished converting document Public004.pdf in 2.86 sec.\n",
      "2025-10-18 19:41:15,237 - src.index - INFO - Processing ..\\private-test-input\\Public005.pdf...\n",
      "2025-10-18 19:41:15,237 - INFO - Processing ..\\private-test-input\\Public005.pdf...\n",
      "2025-10-18 19:41:15,237 - INFO - detected formats: [<InputFormat.PDF: 'pdf'>]\n",
      "2025-10-18 19:41:15,237 - INFO - Going to convert document batch...\n",
      "2025-10-18 19:41:15,245 - INFO - Processing document Public005.pdf\n",
      "2025-10-18 19:41:18,642 - INFO - Finished converting document Public005.pdf in 3.41 sec.\n",
      "2025-10-18 19:41:18,774 - src.index - INFO - Processing ..\\private-test-input\\Public040.pdf...\n",
      "2025-10-18 19:41:18,774 - INFO - Processing ..\\private-test-input\\Public040.pdf...\n",
      "2025-10-18 19:41:18,777 - INFO - detected formats: [<InputFormat.PDF: 'pdf'>]\n",
      "2025-10-18 19:41:18,781 - INFO - Going to convert document batch...\n",
      "2025-10-18 19:41:18,782 - INFO - Processing document Public040.pdf\n",
      "2025-10-18 19:41:19,761 - WARNING - RapidOCR returned empty result!\n",
      "2025-10-18 19:41:23,753 - WARNING - RapidOCR returned empty result!\n",
      "2025-10-18 19:41:40,948 - WARNING - RapidOCR returned empty result!\n",
      "\u001b[33m[WARNING] 2025-10-18 19:41:41,229 [RapidOCR] main.py:123: The text detection result is empty\u001b[0m\n",
      "2025-10-18 19:41:41,229 - WARNING - RapidOCR returned empty result!\n",
      "2025-10-18 19:41:41,950 - WARNING - RapidOCR returned empty result!\n",
      "2025-10-18 19:41:42,892 - WARNING - RapidOCR returned empty result!\n",
      "2025-10-18 19:41:43,635 - WARNING - RapidOCR returned empty result!\n",
      "2025-10-18 19:41:45,559 - WARNING - RapidOCR returned empty result!\n",
      "2025-10-18 19:41:53,281 - WARNING - RapidOCR returned empty result!\n",
      "2025-10-18 19:42:26,845 - INFO - Finished converting document Public040.pdf in 68.06 sec.\n",
      "2025-10-18 19:42:27,096 - src.index - INFO - Processing ..\\private-test-input\\Public043.pdf...\n",
      "2025-10-18 19:42:27,096 - INFO - Processing ..\\private-test-input\\Public043.pdf...\n",
      "2025-10-18 19:42:27,105 - INFO - detected formats: [<InputFormat.PDF: 'pdf'>]\n",
      "2025-10-18 19:42:27,109 - INFO - Going to convert document batch...\n",
      "2025-10-18 19:42:27,109 - INFO - Processing document Public043.pdf\n",
      "2025-10-18 19:42:28,013 - WARNING - RapidOCR returned empty result!\n",
      "\u001b[33m[WARNING] 2025-10-18 19:42:28,314 [RapidOCR] main.py:123: The text detection result is empty\u001b[0m\n",
      "2025-10-18 19:42:28,314 - WARNING - RapidOCR returned empty result!\n",
      "2025-10-18 19:42:32,100 - WARNING - RapidOCR returned empty result!\n",
      "2025-10-18 19:42:36,253 - WARNING - RapidOCR returned empty result!\n",
      "2025-10-18 19:42:37,130 - WARNING - RapidOCR returned empty result!\n",
      "2025-10-18 19:42:52,558 - WARNING - RapidOCR returned empty result!\n",
      "2025-10-18 19:43:04,339 - WARNING - RapidOCR returned empty result!\n",
      "2025-10-18 19:43:26,854 - WARNING - RapidOCR returned empty result!\n",
      "2025-10-18 19:44:01,885 - INFO - Finished converting document Public043.pdf in 94.78 sec.\n",
      "2025-10-18 19:44:01,999 - src.index - INFO - Processing ..\\private-test-input\\Public048.pdf...\n",
      "2025-10-18 19:44:01,999 - INFO - Processing ..\\private-test-input\\Public048.pdf...\n",
      "2025-10-18 19:44:02,001 - INFO - detected formats: [<InputFormat.PDF: 'pdf'>]\n",
      "2025-10-18 19:44:02,006 - INFO - Going to convert document batch...\n",
      "2025-10-18 19:44:02,006 - INFO - Processing document Public048.pdf\n",
      "2025-10-18 19:44:02,904 - WARNING - RapidOCR returned empty result!\n",
      "2025-10-18 19:44:08,755 - WARNING - RapidOCR returned empty result!\n",
      "2025-10-18 19:44:27,961 - WARNING - RapidOCR returned empty result!\n",
      "2025-10-18 19:44:45,091 - WARNING - RapidOCR returned empty result!\n",
      "2025-10-18 19:44:52,417 - WARNING - RapidOCR returned empty result!\n",
      "2025-10-18 19:45:25,217 - INFO - Finished converting document Public048.pdf in 83.22 sec.\n",
      "2025-10-18 19:45:25,307 - src.index - INFO - Processing ..\\private-test-input\\Public051.pdf...\n",
      "2025-10-18 19:45:25,307 - INFO - Processing ..\\private-test-input\\Public051.pdf...\n",
      "2025-10-18 19:45:25,307 - INFO - detected formats: [<InputFormat.PDF: 'pdf'>]\n",
      "2025-10-18 19:45:25,315 - INFO - Going to convert document batch...\n",
      "2025-10-18 19:45:25,315 - INFO - Processing document Public051.pdf\n",
      "2025-10-18 19:45:36,038 - INFO - Finished converting document Public051.pdf in 10.72 sec.\n",
      "2025-10-18 19:45:36,133 - src.index - INFO - Indexing 297 documents...\n",
      "2025-10-18 19:45:36,133 - INFO - Indexing 297 documents...\n",
      "2025-10-18 19:45:40,868 - src.milvus_store - INFO - Successfully added 297 documents\n",
      "2025-10-18 19:45:40,868 - INFO - Successfully added 297 documents\n"
     ]
    }
   ],
   "source": [
    "process_and_index_directory(doc_dir , drop_existing=True, config=config)"
   ]
  },
  {
   "cell_type": "code",
   "execution_count": 25,
   "id": "d0d91096",
   "metadata": {},
   "outputs": [],
   "source": [
    "# config.set(\"database\", \"collection_name\", \"doc_2_db\")"
   ]
  },
  {
   "cell_type": "code",
   "execution_count": 26,
   "id": "f472bdda",
   "metadata": {},
   "outputs": [],
   "source": [
    "# process_and_index_directory(\"./doc_folder_2\", drop_existing=True, config=config)"
   ]
  }
 ],
 "metadata": {
  "kernelspec": {
   "display_name": "agen",
   "language": "python",
   "name": "python3"
  },
  "language_info": {
   "codemirror_mode": {
    "name": "ipython",
    "version": 3
   },
   "file_extension": ".py",
   "mimetype": "text/x-python",
   "name": "python",
   "nbconvert_exporter": "python",
   "pygments_lexer": "ipython3",
   "version": "3.12.12"
  }
 },
 "nbformat": 4,
 "nbformat_minor": 5
}
