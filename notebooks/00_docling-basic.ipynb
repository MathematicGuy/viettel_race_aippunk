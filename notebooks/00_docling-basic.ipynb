{
 "cells": [
  {
   "cell_type": "code",
   "execution_count": 1,
   "id": "e5076f66",
   "metadata": {},
   "outputs": [],
   "source": [
    "import os\n",
    "from pathlib import Path"
   ]
  },
  {
   "cell_type": "markdown",
   "id": "f4632905",
   "metadata": {},
   "source": [
    "# Document folder"
   ]
  },
  {
   "cell_type": "code",
   "execution_count": null,
   "id": "6cdb61f3",
   "metadata": {},
   "outputs": [
    {
     "name": "stdout",
     "output_type": "stream",
     "text": [
      "[PosixPath('doc_folder_1/Public003.pdf'), PosixPath('doc_folder_1/Public004.pdf')]\n"
     ]
    }
   ],
   "source": [
    "doc_dir = \"doc_folder_2\"\n",
    "\n",
    "files = list(Path(doc_dir).glob(\"*\"))\n",
    "print(files)"
   ]
  },
  {
   "cell_type": "code",
   "execution_count": 3,
   "id": "7fe772cc",
   "metadata": {},
   "outputs": [
    {
     "name": "stdout",
     "output_type": "stream",
     "text": [
      "doc_folder_1/Public003.pdf\n"
     ]
    }
   ],
   "source": [
    "file = files[0]\n",
    "print(file)"
   ]
  },
  {
   "cell_type": "markdown",
   "id": "b55176b0",
   "metadata": {},
   "source": [
    "# Basic usage"
   ]
  },
  {
   "cell_type": "markdown",
   "id": "c95c5812",
   "metadata": {},
   "source": [
    "Using `DocumentConverter` to process a document."
   ]
  },
  {
   "cell_type": "code",
   "execution_count": 1,
   "id": "0a6ca3aa",
   "metadata": {},
   "outputs": [],
   "source": [
    "import os, sys\n",
    "sys.path.append(\"..\")"
   ]
  },
  {
   "cell_type": "code",
   "execution_count": 2,
   "id": "7e54892f",
   "metadata": {},
   "outputs": [
    {
     "name": "stdout",
     "output_type": "stream",
     "text": [
      "Ollama is already running\n"
     ]
    }
   ],
   "source": [
    "import os\n",
    "import logging\n",
    "from io import BytesIO\n",
    "from pathlib import Path\n",
    "import subprocess\n",
    "\n",
    "import docling\n",
    "from docling.document_converter import DocumentConverter, PdfFormatOption\n",
    "from docling.backend.pypdfium2_backend import PyPdfiumDocumentBackend\n",
    "from docling.pipeline.standard_pdf_pipeline import StandardPdfPipeline\n",
    "\n",
    "\n",
    "from docling.datamodel.pipeline_options import PdfPipelineOptions\n",
    "from docling.datamodel.base_models import InputFormat\n",
    "from docling_core.types.io import DocumentStream\n",
    "from docling.datamodel.pipeline_options import TableFormerMode\n",
    "from docling.datamodel.accelerator_options import AcceleratorDevice, AcceleratorOptions\n",
    "from docling.datamodel.document import ConversionResult\n",
    "from docling.datamodel.pipeline_options_vlm_model import ApiVlmOptions, ResponseFormat\n",
    "from docling.datamodel.pipeline_options import (\n",
    "    VlmPipelineOptions,\n",
    ")\n",
    "from docling.pipeline.vlm_pipeline import VlmPipeline\n",
    "\n",
    "from PIL import Image\n",
    "import torch\n",
    "from transformers import AutoTokenizer, AutoProcessor, AutoModelForImageTextToText, BitsAndBytesConfig\n",
    "import time\n",
    "import socket\n",
    "\n",
    "# Step 1 — Set env vars before starting server\n",
    "os.environ[\"OLLAMA_FLASH_ATTENTION\"] = \"true\"\n",
    "os.environ[\"OLLAMA_LOW_VRAM\"] = \"false\"\n",
    "os.environ[\"OLLAMA_NUM_PARALLEL\"] = \"4\"\n",
    "os.environ[\"OLLAMA_CONTEXT_LENGTH\"] = \"2048\"\n",
    "\n",
    "# Step 2 — Start Ollama server with these variables\n",
    "\n",
    "def is_ollama_running():\n",
    "\tsock = socket.socket(socket.AF_INET, socket.SOCK_STREAM)\n",
    "\tresult = sock.connect_ex(('localhost', 11434))\n",
    "\tsock.close()\n",
    "\treturn result == 0\n",
    "\n",
    "if not is_ollama_running():\n",
    "\tollama_proc = subprocess.Popen([\"ollama\", \"serve\"], env=os.environ)\n",
    "\ttime.sleep(5)  # wait for Ollama to be ready\n",
    "else:\n",
    "\tprint(\"Ollama is already running\")\n",
    "\n",
    "\n",
    "# MODEL_PATH = \"benhaotang/Nanonets-OCR-s:latest\"  # local HF model\n",
    "MODEL_PATH = \"benhaotang/Nanonets-OCR-s:q4_k_m\"\n",
    "os.environ['TRANSFORMERS_VERBOSITY'] = 'info'\n",
    "\n",
    "\n",
    "def create_vlm_options(model:str, prompt:str):\n",
    "    options = ApiVlmOptions(\n",
    "        url=\"http://localhost:11434/v1/chat/completions\",  # the default Ollama endpoint # type: ignore\n",
    "        params=dict(\n",
    "            model=model,\n",
    "        ),\n",
    "        prompt=prompt,\n",
    "        timeout=350,\n",
    "        scale=1.0,\n",
    "        response_format=ResponseFormat.MARKDOWN,\n",
    "    )\n",
    "\n",
    "    return options\n",
    "\n",
    "\n",
    "# ===========================\n",
    "# 2️⃣ Configure Docling\n",
    "# ===========================\n",
    "def doc_converter():\n",
    "    logging.basicConfig(level=logging.INFO)\n",
    "    system_prompt = \"\"\"\n",
    "        Hãy trích xuất toàn bộ văn bản từ tài liệu ở trên giống như cách bạn đọc nó một cách tự nhiên.\n",
    "        Trả về các bảng dưới dạng mã HTML.\n",
    "        Trả về các phương trình dưới dạng biểu diễn LaTeX.\n",
    "\n",
    "        Nếu trong tài liệu có hình ảnh nhưng không có chú thích, hãy thêm một mô tả ngắn cho hình ảnh đó bên trong thẻ <img></img>;\n",
    "        nếu hình ảnh đã có chú thích, hãy đặt chú thích đó bên trong thẻ <img></img>.\n",
    "\n",
    "        Dấu watermark nên được đặt trong thẻ <watermark></watermark>.\n",
    "        Số trang nên được đặt trong thẻ <page_number></page_number>.\n",
    "        Ví dụ: <page_number>14</page_number> hoặc <page_number>9/22</page_number>.\n",
    "\n",
    "        Ưu tiên sử dụng ký hiệu ☐ và ☑ cho các ô kiểm (checkbox).\n",
    "\n",
    "        QUAN TRỌNG: Luôn luôn trả lời bằng **Tiếng Việt**.\n",
    "    \"\"\"\n",
    "\n",
    "    #? run remote Ollama, Huggingface model\n",
    "    pdf_options = VlmPipelineOptions(\n",
    "        enable_remote_services=True  # required when calling remote VLM endpoints\n",
    "    )\n",
    "    pdf_options.accelerator_options = AcceleratorOptions(\n",
    "        num_threads=12, device=AcceleratorDevice.AUTO\n",
    "    )\n",
    "    pdf_options.vlm_options = create_vlm_options(\n",
    "        model=MODEL_PATH,\n",
    "        prompt=system_prompt,\n",
    "    )\n",
    "\n",
    "    converter = DocumentConverter(\n",
    "        # allowed_formats=[\n",
    "        #     InputFormat.PDF,\n",
    "        #     InputFormat.IMAGE,\n",
    "        #     InputFormat.DOCX,\n",
    "        #     InputFormat.HTML,\n",
    "        #     InputFormat.PPTX,\n",
    "        # ],  # whitelist formats, non-matching files are igno\n",
    "\n",
    "        format_options={\n",
    "            InputFormat.PDF: PdfFormatOption(\n",
    "                pipeline_options=pdf_options,\n",
    "                pipeline_cls=VlmPipeline,\n",
    "            )\n",
    "        }\n",
    "    )\n",
    "\n",
    "    return converter\n",
    "\n",
    "\n",
    "# PDF → Markdown pipeline\n",
    "def extract_text_to_markdown(input_dir: str, output_dir: str):\n",
    "    output_dir = Path(output_dir)  # type: ignore\n",
    "    output_dir.mkdir(parents=True, exist_ok=True)  # type: ignore\n",
    "\n",
    "    data_folder = 'D:\\\\VIETTEL_RACE\\\\qa-mcq-rag\\\\mcqaRAG_p2\\\\private-test-input'\n",
    "    file_names = os.listdir(data_folder)\n",
    "    file_list = [f'{data_folder}/{file_name}' for file_name in file_names]\n",
    "\n",
    "    batch_size = 3\n",
    "    converter = doc_converter()\n",
    "\n",
    "    # Process files in batches\n",
    "    for i in range(0, len(file_list), batch_size):\n",
    "        batch_names = file_names[i:i+batch_size]\n",
    "        batch_paths = file_list[i:i+batch_size]\n",
    "\n",
    "        print(f\"Processing batch {i//batch_size + 1}: {batch_names}\")\n",
    "\n",
    "        for file_name, file_path in zip(batch_names, batch_paths):\n",
    "            try:\n",
    "                conv_result = converter.convert(file_path)\n",
    "                with open(f\"{output_dir}/{file_name[:-4]}.md\", \"w\", encoding='utf-8') as f:\n",
    "                    f.write(conv_result.document.export_to_markdown())\n",
    "                print(f\"✓ Completed: {file_name}\")\n",
    "            except Exception as e:\n",
    "                print(f\"❌ Error processing {file_name}: {e}\")\n"
   ]
  },
  {
   "cell_type": "code",
   "execution_count": null,
   "id": "d6b17b02",
   "metadata": {},
   "outputs": [
    {
     "name": "stderr",
     "output_type": "stream",
     "text": [
      "2025-10-19 01:34:24,219 - INFO - detected formats: [<InputFormat.PDF: 'pdf'>]\n",
      "2025-10-19 01:34:24,259 - INFO - Going to convert document batch...\n",
      "2025-10-19 01:34:24,260 - INFO - Initializing pipeline for VlmPipeline with options hash 309ed9ea03de69421ff1373882da7d51\n"
     ]
    },
    {
     "name": "stdout",
     "output_type": "stream",
     "text": [
      "Processing batch 1: ['Public001.pdf', 'Public002.pdf', 'Public003.pdf']\n"
     ]
    },
    {
     "name": "stderr",
     "output_type": "stream",
     "text": [
      "2025-10-19 01:34:24,710 - INFO - Loading plugin 'docling_defaults'\n",
      "2025-10-19 01:34:24,710 - WARNING - The plugin langchain_docling will not be loaded because Docling is being executed with allow_external_plugins=false.\n",
      "2025-10-19 01:34:24,710 - INFO - Registered picture descriptions: ['vlm', 'api']\n",
      "2025-10-19 01:34:24,710 - INFO - Processing document Public001.pdf\n",
      "2025-10-19 01:36:04,880 - INFO - Finished converting document Public001.pdf in 100.66 sec.\n",
      "2025-10-19 01:36:04,888 - INFO - detected formats: [<InputFormat.PDF: 'pdf'>]\n",
      "2025-10-19 01:36:04,888 - INFO - Going to convert document batch...\n",
      "2025-10-19 01:36:04,888 - INFO - Processing document Public002.pdf\n"
     ]
    },
    {
     "name": "stdout",
     "output_type": "stream",
     "text": [
      "✓ Completed: Public001.pdf\n"
     ]
    },
    {
     "name": "stderr",
     "output_type": "stream",
     "text": [
      "2025-10-19 01:36:56,096 - INFO - Finished converting document Public002.pdf in 51.20 sec.\n",
      "2025-10-19 01:36:56,115 - INFO - detected formats: [<InputFormat.PDF: 'pdf'>]\n",
      "2025-10-19 01:36:56,116 - INFO - Going to convert document batch...\n",
      "2025-10-19 01:36:56,116 - INFO - Processing document Public003.pdf\n"
     ]
    },
    {
     "name": "stdout",
     "output_type": "stream",
     "text": [
      "✓ Completed: Public002.pdf\n"
     ]
    },
    {
     "name": "stderr",
     "output_type": "stream",
     "text": [
      "2025-10-19 01:43:59,731 - INFO - Finished converting document Public003.pdf in 423.62 sec.\n",
      "2025-10-19 01:43:59,750 - INFO - detected formats: [<InputFormat.PDF: 'pdf'>]\n",
      "2025-10-19 01:43:59,751 - INFO - Going to convert document batch...\n",
      "2025-10-19 01:43:59,751 - INFO - Processing document Public004.pdf\n"
     ]
    },
    {
     "name": "stdout",
     "output_type": "stream",
     "text": [
      "✓ Completed: Public003.pdf\n",
      "Processing batch 2: ['Public004.pdf', 'Public005.pdf', 'Public006.pdf']\n"
     ]
    },
    {
     "name": "stderr",
     "output_type": "stream",
     "text": [
      "2025-10-19 01:50:26,019 - INFO - Finished converting document Public004.pdf in 386.27 sec.\n",
      "2025-10-19 01:50:26,126 - INFO - detected formats: [<InputFormat.PDF: 'pdf'>]\n",
      "2025-10-19 01:50:26,134 - INFO - Going to convert document batch...\n",
      "2025-10-19 01:50:26,134 - INFO - Processing document Public005.pdf\n"
     ]
    },
    {
     "name": "stdout",
     "output_type": "stream",
     "text": [
      "✓ Completed: Public004.pdf\n"
     ]
    },
    {
     "name": "stderr",
     "output_type": "stream",
     "text": [
      "2025-10-19 01:51:30,006 - INFO - Finished converting document Public005.pdf in 63.88 sec.\n",
      "2025-10-19 01:51:30,029 - INFO - detected formats: [<InputFormat.PDF: 'pdf'>]\n",
      "2025-10-19 01:51:30,032 - INFO - Going to convert document batch...\n",
      "2025-10-19 01:51:30,033 - INFO - Processing document Public006.pdf\n"
     ]
    },
    {
     "name": "stdout",
     "output_type": "stream",
     "text": [
      "✓ Completed: Public005.pdf\n"
     ]
    },
    {
     "name": "stderr",
     "output_type": "stream",
     "text": [
      "2025-10-19 01:59:00,648 - INFO - Finished converting document Public006.pdf in 450.61 sec.\n",
      "2025-10-19 01:59:00,784 - INFO - detected formats: [<InputFormat.PDF: 'pdf'>]\n",
      "2025-10-19 01:59:00,793 - INFO - Going to convert document batch...\n",
      "2025-10-19 01:59:00,793 - INFO - Processing document Public007.pdf\n"
     ]
    },
    {
     "name": "stdout",
     "output_type": "stream",
     "text": [
      "✓ Completed: Public006.pdf\n",
      "Processing batch 3: ['Public007.pdf', 'Public008.pdf', 'Public009.pdf']\n"
     ]
    },
    {
     "name": "stderr",
     "output_type": "stream",
     "text": [
      "2025-10-19 02:00:07,630 - INFO - Finished converting document Public007.pdf in 66.84 sec.\n",
      "2025-10-19 02:00:07,646 - INFO - detected formats: [<InputFormat.PDF: 'pdf'>]\n",
      "2025-10-19 02:00:07,661 - INFO - Going to convert document batch...\n",
      "2025-10-19 02:00:07,663 - INFO - Processing document Public008.pdf\n"
     ]
    },
    {
     "name": "stdout",
     "output_type": "stream",
     "text": [
      "✓ Completed: Public007.pdf\n"
     ]
    },
    {
     "name": "stderr",
     "output_type": "stream",
     "text": [
      "2025-10-19 02:01:34,219 - INFO - Finished converting document Public008.pdf in 86.58 sec.\n",
      "2025-10-19 02:01:34,237 - INFO - detected formats: [<InputFormat.PDF: 'pdf'>]\n",
      "2025-10-19 02:01:34,237 - INFO - Going to convert document batch...\n",
      "2025-10-19 02:01:34,253 - INFO - Processing document Public009.pdf\n"
     ]
    },
    {
     "name": "stdout",
     "output_type": "stream",
     "text": [
      "✓ Completed: Public008.pdf\n"
     ]
    },
    {
     "name": "stderr",
     "output_type": "stream",
     "text": [
      "2025-10-19 02:02:36,668 - INFO - Finished converting document Public009.pdf in 62.44 sec.\n",
      "2025-10-19 02:02:36,675 - INFO - detected formats: [<InputFormat.PDF: 'pdf'>]\n",
      "2025-10-19 02:02:36,692 - INFO - Going to convert document batch...\n",
      "2025-10-19 02:02:36,693 - INFO - Processing document Public010.pdf\n"
     ]
    },
    {
     "name": "stdout",
     "output_type": "stream",
     "text": [
      "✓ Completed: Public009.pdf\n",
      "Processing batch 4: ['Public010.pdf', 'Public011.pdf', 'Public012.pdf']\n"
     ]
    },
    {
     "name": "stderr",
     "output_type": "stream",
     "text": [
      "2025-10-19 02:05:04,586 - INFO - Finished converting document Public010.pdf in 147.91 sec.\n",
      "2025-10-19 02:05:04,648 - INFO - detected formats: [<InputFormat.PDF: 'pdf'>]\n",
      "2025-10-19 02:05:04,650 - INFO - Going to convert document batch...\n",
      "2025-10-19 02:05:04,651 - INFO - Processing document Public011.pdf\n"
     ]
    },
    {
     "name": "stdout",
     "output_type": "stream",
     "text": [
      "✓ Completed: Public010.pdf\n"
     ]
    },
    {
     "name": "stderr",
     "output_type": "stream",
     "text": [
      "2025-10-19 02:05:26,386 - INFO - Finished converting document Public011.pdf in 21.73 sec.\n",
      "2025-10-19 02:05:26,386 - INFO - detected formats: [<InputFormat.PDF: 'pdf'>]\n",
      "2025-10-19 02:05:26,386 - INFO - Going to convert document batch...\n",
      "2025-10-19 02:05:26,386 - INFO - Processing document Public012.pdf\n"
     ]
    },
    {
     "name": "stdout",
     "output_type": "stream",
     "text": [
      "✓ Completed: Public011.pdf\n"
     ]
    },
    {
     "name": "stderr",
     "output_type": "stream",
     "text": [
      "2025-10-19 02:12:15,304 - INFO - Finished converting document Public012.pdf in 408.92 sec.\n",
      "2025-10-19 02:12:15,597 - INFO - detected formats: [<InputFormat.PDF: 'pdf'>]\n",
      "2025-10-19 02:12:15,597 - INFO - Going to convert document batch...\n",
      "2025-10-19 02:12:15,597 - INFO - Processing document Public013.pdf\n"
     ]
    },
    {
     "name": "stdout",
     "output_type": "stream",
     "text": [
      "✓ Completed: Public012.pdf\n",
      "Processing batch 5: ['Public013.pdf', 'Public014.pdf', 'Public015.pdf']\n"
     ]
    },
    {
     "name": "stderr",
     "output_type": "stream",
     "text": [
      "2025-10-19 02:12:42,052 - INFO - Finished converting document Public013.pdf in 26.45 sec.\n",
      "2025-10-19 02:12:42,067 - INFO - detected formats: [<InputFormat.PDF: 'pdf'>]\n",
      "2025-10-19 02:12:42,067 - INFO - Going to convert document batch...\n",
      "2025-10-19 02:12:42,067 - INFO - Processing document Public014.pdf\n"
     ]
    },
    {
     "name": "stdout",
     "output_type": "stream",
     "text": [
      "✓ Completed: Public013.pdf\n"
     ]
    },
    {
     "name": "stderr",
     "output_type": "stream",
     "text": [
      "2025-10-19 02:14:24,326 - INFO - Finished converting document Public014.pdf in 102.26 sec.\n",
      "2025-10-19 02:14:24,334 - INFO - detected formats: [<InputFormat.PDF: 'pdf'>]\n",
      "2025-10-19 02:14:24,334 - INFO - Going to convert document batch...\n",
      "2025-10-19 02:14:24,334 - INFO - Processing document Public015.pdf\n"
     ]
    },
    {
     "name": "stdout",
     "output_type": "stream",
     "text": [
      "✓ Completed: Public014.pdf\n"
     ]
    },
    {
     "name": "stderr",
     "output_type": "stream",
     "text": [
      "2025-10-19 02:18:17,834 - INFO - Finished converting document Public015.pdf in 233.50 sec.\n",
      "2025-10-19 02:18:17,960 - INFO - detected formats: [<InputFormat.PDF: 'pdf'>]\n",
      "2025-10-19 02:18:17,960 - INFO - Going to convert document batch...\n",
      "2025-10-19 02:18:17,960 - INFO - Processing document Public016.pdf\n"
     ]
    },
    {
     "name": "stdout",
     "output_type": "stream",
     "text": [
      "✓ Completed: Public015.pdf\n",
      "Processing batch 6: ['Public016.pdf', 'Public017.pdf', 'Public018.pdf']\n"
     ]
    },
    {
     "name": "stderr",
     "output_type": "stream",
     "text": [
      "2025-10-19 02:19:49,764 - INFO - Finished converting document Public016.pdf in 91.81 sec.\n",
      "2025-10-19 02:19:49,789 - INFO - detected formats: [<InputFormat.PDF: 'pdf'>]\n",
      "2025-10-19 02:19:49,789 - INFO - Going to convert document batch...\n",
      "2025-10-19 02:19:49,798 - INFO - Processing document Public017.pdf\n"
     ]
    },
    {
     "name": "stdout",
     "output_type": "stream",
     "text": [
      "✓ Completed: Public016.pdf\n"
     ]
    },
    {
     "name": "stderr",
     "output_type": "stream",
     "text": [
      "2025-10-19 02:22:00,577 - INFO - Finished converting document Public017.pdf in 130.80 sec.\n",
      "2025-10-19 02:22:00,577 - INFO - detected formats: [<InputFormat.PDF: 'pdf'>]\n",
      "2025-10-19 02:22:00,595 - INFO - Going to convert document batch...\n",
      "2025-10-19 02:22:00,596 - INFO - Processing document Public018.pdf\n"
     ]
    },
    {
     "name": "stdout",
     "output_type": "stream",
     "text": [
      "✓ Completed: Public017.pdf\n"
     ]
    },
    {
     "name": "stderr",
     "output_type": "stream",
     "text": [
      "2025-10-19 02:28:39,260 - INFO - Finished converting document Public018.pdf in 398.67 sec.\n",
      "2025-10-19 02:28:39,397 - INFO - detected formats: [<InputFormat.PDF: 'pdf'>]\n",
      "2025-10-19 02:28:39,404 - INFO - Going to convert document batch...\n",
      "2025-10-19 02:28:39,405 - INFO - Processing document Public019.pdf\n"
     ]
    },
    {
     "name": "stdout",
     "output_type": "stream",
     "text": [
      "✓ Completed: Public018.pdf\n",
      "Processing batch 7: ['Public019.pdf', 'Public020.pdf', 'Public021.pdf']\n"
     ]
    },
    {
     "name": "stderr",
     "output_type": "stream",
     "text": [
      "2025-10-19 02:36:23,992 - INFO - Finished converting document Public019.pdf in 464.59 sec.\n",
      "2025-10-19 02:36:24,017 - INFO - detected formats: [<InputFormat.PDF: 'pdf'>]\n",
      "2025-10-19 02:36:24,019 - INFO - Going to convert document batch...\n",
      "2025-10-19 02:36:24,021 - INFO - Processing document Public020.pdf\n"
     ]
    },
    {
     "name": "stdout",
     "output_type": "stream",
     "text": [
      "✓ Completed: Public019.pdf\n"
     ]
    },
    {
     "name": "stderr",
     "output_type": "stream",
     "text": [
      "2025-10-19 02:36:48,066 - INFO - Finished converting document Public020.pdf in 24.05 sec.\n",
      "2025-10-19 02:36:48,077 - INFO - detected formats: [<InputFormat.PDF: 'pdf'>]\n",
      "2025-10-19 02:36:48,080 - INFO - Going to convert document batch...\n",
      "2025-10-19 02:36:48,081 - INFO - Processing document Public021.pdf\n"
     ]
    },
    {
     "name": "stdout",
     "output_type": "stream",
     "text": [
      "✓ Completed: Public020.pdf\n"
     ]
    },
    {
     "name": "stderr",
     "output_type": "stream",
     "text": [
      "2025-10-19 02:43:49,273 - INFO - Finished converting document Public021.pdf in 421.20 sec.\n",
      "2025-10-19 02:43:49,607 - INFO - detected formats: [<InputFormat.PDF: 'pdf'>]\n",
      "2025-10-19 02:43:49,607 - INFO - Going to convert document batch...\n",
      "2025-10-19 02:43:49,607 - INFO - Processing document Public022.pdf\n"
     ]
    },
    {
     "name": "stdout",
     "output_type": "stream",
     "text": [
      "✓ Completed: Public021.pdf\n",
      "Processing batch 8: ['Public022.pdf', 'Public023.pdf', 'Public024.pdf']\n"
     ]
    },
    {
     "name": "stderr",
     "output_type": "stream",
     "text": [
      "2025-10-19 02:45:13,878 - INFO - Finished converting document Public022.pdf in 84.27 sec.\n",
      "2025-10-19 02:45:13,898 - INFO - detected formats: [<InputFormat.PDF: 'pdf'>]\n",
      "2025-10-19 02:45:13,898 - INFO - Going to convert document batch...\n",
      "2025-10-19 02:45:13,898 - INFO - Processing document Public023.pdf\n"
     ]
    },
    {
     "name": "stdout",
     "output_type": "stream",
     "text": [
      "✓ Completed: Public022.pdf\n"
     ]
    },
    {
     "name": "stderr",
     "output_type": "stream",
     "text": [
      "2025-10-19 02:45:48,194 - INFO - Finished converting document Public023.pdf in 34.30 sec.\n",
      "2025-10-19 02:45:48,202 - INFO - detected formats: [<InputFormat.PDF: 'pdf'>]\n",
      "2025-10-19 02:45:48,211 - INFO - Going to convert document batch...\n",
      "2025-10-19 02:45:48,211 - INFO - Processing document Public024.pdf\n"
     ]
    },
    {
     "name": "stdout",
     "output_type": "stream",
     "text": [
      "✓ Completed: Public023.pdf\n"
     ]
    },
    {
     "name": "stderr",
     "output_type": "stream",
     "text": [
      "2025-10-19 02:46:16,092 - INFO - Finished converting document Public024.pdf in 27.89 sec.\n",
      "2025-10-19 02:46:16,107 - INFO - detected formats: [<InputFormat.PDF: 'pdf'>]\n",
      "2025-10-19 02:46:16,107 - INFO - Going to convert document batch...\n",
      "2025-10-19 02:46:16,107 - INFO - Processing document Public025.pdf\n"
     ]
    },
    {
     "name": "stdout",
     "output_type": "stream",
     "text": [
      "✓ Completed: Public024.pdf\n",
      "Processing batch 9: ['Public025.pdf', 'Public026.pdf', 'Public027.pdf']\n"
     ]
    },
    {
     "name": "stderr",
     "output_type": "stream",
     "text": [
      "2025-10-19 02:46:41,996 - INFO - Finished converting document Public025.pdf in 25.89 sec.\n",
      "2025-10-19 02:46:42,000 - INFO - detected formats: [<InputFormat.PDF: 'pdf'>]\n",
      "2025-10-19 02:46:42,000 - INFO - Going to convert document batch...\n",
      "2025-10-19 02:46:42,000 - INFO - Processing document Public026.pdf\n"
     ]
    },
    {
     "name": "stdout",
     "output_type": "stream",
     "text": [
      "✓ Completed: Public025.pdf\n"
     ]
    },
    {
     "name": "stderr",
     "output_type": "stream",
     "text": [
      "2025-10-19 02:47:02,658 - INFO - Finished converting document Public026.pdf in 20.66 sec.\n",
      "2025-10-19 02:47:02,675 - INFO - detected formats: [<InputFormat.PDF: 'pdf'>]\n",
      "2025-10-19 02:47:02,677 - INFO - Going to convert document batch...\n",
      "2025-10-19 02:47:02,677 - INFO - Processing document Public027.pdf\n"
     ]
    },
    {
     "name": "stdout",
     "output_type": "stream",
     "text": [
      "✓ Completed: Public026.pdf\n"
     ]
    },
    {
     "name": "stderr",
     "output_type": "stream",
     "text": [
      "2025-10-19 02:47:24,786 - INFO - Finished converting document Public027.pdf in 22.11 sec.\n",
      "2025-10-19 02:47:24,795 - INFO - detected formats: [<InputFormat.PDF: 'pdf'>]\n",
      "2025-10-19 02:47:24,795 - INFO - Going to convert document batch...\n",
      "2025-10-19 02:47:24,799 - INFO - Processing document Public028.pdf\n"
     ]
    },
    {
     "name": "stdout",
     "output_type": "stream",
     "text": [
      "✓ Completed: Public027.pdf\n",
      "Processing batch 10: ['Public028.pdf', 'Public029.pdf', 'Public030.pdf']\n"
     ]
    },
    {
     "name": "stderr",
     "output_type": "stream",
     "text": [
      "2025-10-19 02:47:41,823 - INFO - Finished converting document Public028.pdf in 17.02 sec.\n",
      "2025-10-19 02:47:41,823 - INFO - detected formats: [<InputFormat.PDF: 'pdf'>]\n",
      "2025-10-19 02:47:41,823 - INFO - Going to convert document batch...\n",
      "2025-10-19 02:47:41,839 - INFO - Processing document Public029.pdf\n"
     ]
    },
    {
     "name": "stdout",
     "output_type": "stream",
     "text": [
      "✓ Completed: Public028.pdf\n"
     ]
    },
    {
     "name": "stderr",
     "output_type": "stream",
     "text": [
      "2025-10-19 02:48:02,565 - INFO - Finished converting document Public029.pdf in 20.75 sec.\n",
      "2025-10-19 02:48:02,573 - INFO - detected formats: [<InputFormat.PDF: 'pdf'>]\n",
      "2025-10-19 02:48:02,581 - INFO - Going to convert document batch...\n",
      "2025-10-19 02:48:02,583 - INFO - Processing document Public030.pdf\n"
     ]
    },
    {
     "name": "stdout",
     "output_type": "stream",
     "text": [
      "✓ Completed: Public029.pdf\n"
     ]
    },
    {
     "name": "stderr",
     "output_type": "stream",
     "text": [
      "2025-10-19 02:48:31,161 - INFO - Finished converting document Public030.pdf in 28.59 sec.\n",
      "2025-10-19 02:48:31,163 - INFO - detected formats: [<InputFormat.PDF: 'pdf'>]\n",
      "2025-10-19 02:48:31,163 - INFO - Going to convert document batch...\n",
      "2025-10-19 02:48:31,163 - INFO - Processing document Public031.pdf\n"
     ]
    },
    {
     "name": "stdout",
     "output_type": "stream",
     "text": [
      "✓ Completed: Public030.pdf\n",
      "Processing batch 11: ['Public031.pdf', 'Public032.pdf', 'Public033.pdf']\n"
     ]
    },
    {
     "name": "stderr",
     "output_type": "stream",
     "text": [
      "2025-10-19 02:49:37,911 - INFO - Finished converting document Public031.pdf in 66.75 sec.\n",
      "2025-10-19 02:49:37,955 - INFO - detected formats: [<InputFormat.PDF: 'pdf'>]\n",
      "2025-10-19 02:49:37,958 - INFO - Going to convert document batch...\n",
      "2025-10-19 02:49:37,958 - INFO - Processing document Public032.pdf\n"
     ]
    },
    {
     "name": "stdout",
     "output_type": "stream",
     "text": [
      "✓ Completed: Public031.pdf\n"
     ]
    },
    {
     "name": "stderr",
     "output_type": "stream",
     "text": [
      "2025-10-19 02:49:59,894 - INFO - Finished converting document Public032.pdf in 21.94 sec.\n",
      "2025-10-19 02:49:59,901 - INFO - detected formats: [<InputFormat.PDF: 'pdf'>]\n",
      "2025-10-19 02:49:59,911 - INFO - Going to convert document batch...\n",
      "2025-10-19 02:49:59,911 - INFO - Processing document Public033.pdf\n"
     ]
    },
    {
     "name": "stdout",
     "output_type": "stream",
     "text": [
      "✓ Completed: Public032.pdf\n"
     ]
    },
    {
     "name": "stderr",
     "output_type": "stream",
     "text": [
      "2025-10-19 02:50:27,595 - INFO - Finished converting document Public033.pdf in 27.70 sec.\n",
      "2025-10-19 02:50:27,615 - INFO - detected formats: [<InputFormat.PDF: 'pdf'>]\n",
      "2025-10-19 02:50:27,618 - INFO - Going to convert document batch...\n",
      "2025-10-19 02:50:27,618 - INFO - Processing document Public034.pdf\n"
     ]
    },
    {
     "name": "stdout",
     "output_type": "stream",
     "text": [
      "✓ Completed: Public033.pdf\n",
      "Processing batch 12: ['Public034.pdf', 'Public035.pdf', 'Public036.pdf']\n"
     ]
    },
    {
     "name": "stderr",
     "output_type": "stream",
     "text": [
      "2025-10-19 02:56:26,197 - INFO - Finished converting document Public034.pdf in 358.58 sec.\n",
      "2025-10-19 02:56:26,206 - INFO - detected formats: [<InputFormat.PDF: 'pdf'>]\n",
      "2025-10-19 02:56:26,206 - INFO - Going to convert document batch...\n",
      "2025-10-19 02:56:26,206 - INFO - Processing document Public035.pdf\n"
     ]
    },
    {
     "name": "stdout",
     "output_type": "stream",
     "text": [
      "✓ Completed: Public034.pdf\n"
     ]
    },
    {
     "name": "stderr",
     "output_type": "stream",
     "text": [
      "2025-10-19 03:01:09,729 - INFO - Finished converting document Public035.pdf in 283.52 sec.\n",
      "2025-10-19 03:01:10,082 - INFO - detected formats: [<InputFormat.PDF: 'pdf'>]\n",
      "2025-10-19 03:01:10,082 - INFO - Going to convert document batch...\n",
      "2025-10-19 03:01:10,098 - INFO - Processing document Public036.pdf\n"
     ]
    },
    {
     "name": "stdout",
     "output_type": "stream",
     "text": [
      "✓ Completed: Public035.pdf\n"
     ]
    },
    {
     "name": "stderr",
     "output_type": "stream",
     "text": [
      "2025-10-19 03:05:04,886 - INFO - Finished converting document Public036.pdf in 234.80 sec.\n",
      "2025-10-19 03:05:05,006 - INFO - detected formats: [<InputFormat.PDF: 'pdf'>]\n",
      "2025-10-19 03:05:05,010 - INFO - Going to convert document batch...\n",
      "2025-10-19 03:05:05,010 - INFO - Processing document Public037.pdf\n"
     ]
    },
    {
     "name": "stdout",
     "output_type": "stream",
     "text": [
      "✓ Completed: Public036.pdf\n",
      "Processing batch 13: ['Public037.pdf', 'Public038.pdf', 'Public039.pdf']\n"
     ]
    },
    {
     "name": "stderr",
     "output_type": "stream",
     "text": [
      "2025-10-19 03:18:35,710 - INFO - Finished converting document Public037.pdf in 810.70 sec.\n",
      "2025-10-19 03:18:35,995 - INFO - detected formats: [<InputFormat.PDF: 'pdf'>]\n",
      "2025-10-19 03:18:35,995 - INFO - Going to convert document batch...\n",
      "2025-10-19 03:18:35,995 - INFO - Processing document Public038.pdf\n"
     ]
    },
    {
     "name": "stdout",
     "output_type": "stream",
     "text": [
      "✓ Completed: Public037.pdf\n"
     ]
    },
    {
     "name": "stderr",
     "output_type": "stream",
     "text": [
      "2025-10-19 03:24:31,606 - INFO - Finished converting document Public038.pdf in 355.62 sec.\n",
      "2025-10-19 03:24:32,156 - INFO - detected formats: [<InputFormat.PDF: 'pdf'>]\n",
      "2025-10-19 03:24:32,158 - INFO - Going to convert document batch...\n",
      "2025-10-19 03:24:32,158 - INFO - Processing document Public039.pdf\n"
     ]
    },
    {
     "name": "stdout",
     "output_type": "stream",
     "text": [
      "✓ Completed: Public038.pdf\n"
     ]
    },
    {
     "name": "stderr",
     "output_type": "stream",
     "text": [
      "2025-10-19 03:25:55,185 - INFO - Finished converting document Public039.pdf in 83.05 sec.\n",
      "2025-10-19 03:25:55,216 - INFO - detected formats: [<InputFormat.PDF: 'pdf'>]\n",
      "2025-10-19 03:25:55,220 - INFO - Going to convert document batch...\n",
      "2025-10-19 03:25:55,221 - INFO - Processing document Public040 copy.pdf\n"
     ]
    },
    {
     "name": "stdout",
     "output_type": "stream",
     "text": [
      "✓ Completed: Public039.pdf\n",
      "Processing batch 14: ['Public040 copy.pdf', 'Public040.pdf', 'Public041.pdf']\n"
     ]
    },
    {
     "name": "stderr",
     "output_type": "stream",
     "text": [
      "2025-10-19 03:26:27,223 - INFO - Finished converting document Public040 copy.pdf in 32.00 sec.\n",
      "2025-10-19 03:26:27,227 - INFO - detected formats: [<InputFormat.PDF: 'pdf'>]\n",
      "2025-10-19 03:26:27,227 - INFO - Going to convert document batch...\n",
      "2025-10-19 03:26:27,227 - INFO - Processing document Public040.pdf\n"
     ]
    },
    {
     "name": "stdout",
     "output_type": "stream",
     "text": [
      "✓ Completed: Public040 copy.pdf\n"
     ]
    },
    {
     "name": "stderr",
     "output_type": "stream",
     "text": [
      "2025-10-19 03:26:59,206 - INFO - Finished converting document Public040.pdf in 31.98 sec.\n",
      "2025-10-19 03:26:59,218 - INFO - detected formats: [<InputFormat.PDF: 'pdf'>]\n",
      "2025-10-19 03:26:59,218 - INFO - Going to convert document batch...\n",
      "2025-10-19 03:26:59,218 - INFO - Processing document Public041.pdf\n"
     ]
    },
    {
     "name": "stdout",
     "output_type": "stream",
     "text": [
      "✓ Completed: Public040.pdf\n"
     ]
    },
    {
     "name": "stderr",
     "output_type": "stream",
     "text": [
      "2025-10-19 03:27:23,052 - INFO - Finished converting document Public041.pdf in 23.83 sec.\n",
      "2025-10-19 03:27:23,060 - INFO - detected formats: [<InputFormat.PDF: 'pdf'>]\n",
      "2025-10-19 03:27:23,060 - INFO - Going to convert document batch...\n",
      "2025-10-19 03:27:23,060 - INFO - Processing document Public042.pdf\n"
     ]
    },
    {
     "name": "stdout",
     "output_type": "stream",
     "text": [
      "✓ Completed: Public041.pdf\n",
      "Processing batch 15: ['Public042.pdf', 'Public043 copy.pdf', 'Public043.pdf']\n"
     ]
    },
    {
     "name": "stderr",
     "output_type": "stream",
     "text": [
      "2025-10-19 03:28:36,366 - INFO - Finished converting document Public042.pdf in 73.30 sec.\n",
      "2025-10-19 03:28:36,381 - INFO - detected formats: [<InputFormat.PDF: 'pdf'>]\n",
      "2025-10-19 03:28:36,386 - INFO - Going to convert document batch...\n",
      "2025-10-19 03:28:36,386 - INFO - Processing document Public043 copy.pdf\n"
     ]
    },
    {
     "name": "stdout",
     "output_type": "stream",
     "text": [
      "✓ Completed: Public042.pdf\n"
     ]
    },
    {
     "name": "stderr",
     "output_type": "stream",
     "text": [
      "2025-10-19 03:32:08,566 - INFO - Finished converting document Public043 copy.pdf in 212.19 sec.\n",
      "2025-10-19 03:32:08,815 - INFO - detected formats: [<InputFormat.PDF: 'pdf'>]\n",
      "2025-10-19 03:32:08,824 - INFO - Going to convert document batch...\n",
      "2025-10-19 03:32:08,824 - INFO - Processing document Public043.pdf\n"
     ]
    },
    {
     "name": "stdout",
     "output_type": "stream",
     "text": [
      "✓ Completed: Public043 copy.pdf\n"
     ]
    },
    {
     "name": "stderr",
     "output_type": "stream",
     "text": [
      "2025-10-19 03:38:51,662 - INFO - Finished converting document Public043.pdf in 402.84 sec.\n",
      "2025-10-19 03:38:52,386 - INFO - detected formats: [<InputFormat.PDF: 'pdf'>]\n",
      "2025-10-19 03:38:52,394 - INFO - Going to convert document batch...\n",
      "2025-10-19 03:38:52,394 - INFO - Processing document Public044.pdf\n"
     ]
    },
    {
     "name": "stdout",
     "output_type": "stream",
     "text": [
      "✓ Completed: Public043.pdf\n",
      "Processing batch 16: ['Public044.pdf', 'Public045.pdf', 'Public046.pdf']\n"
     ]
    },
    {
     "name": "stderr",
     "output_type": "stream",
     "text": [
      "2025-10-19 03:51:14,741 - INFO - Finished converting document Public044.pdf in 742.36 sec.\n",
      "2025-10-19 03:51:15,233 - INFO - detected formats: [<InputFormat.PDF: 'pdf'>]\n",
      "2025-10-19 03:51:15,242 - INFO - Going to convert document batch...\n",
      "2025-10-19 03:51:15,242 - INFO - Processing document Public045.pdf\n"
     ]
    },
    {
     "name": "stdout",
     "output_type": "stream",
     "text": [
      "✓ Completed: Public044.pdf\n"
     ]
    },
    {
     "name": "stderr",
     "output_type": "stream",
     "text": [
      "2025-10-19 03:52:24,873 - INFO - Finished converting document Public045.pdf in 69.64 sec.\n",
      "2025-10-19 03:52:24,891 - INFO - detected formats: [<InputFormat.PDF: 'pdf'>]\n",
      "2025-10-19 03:52:24,908 - INFO - Going to convert document batch...\n",
      "2025-10-19 03:52:24,909 - INFO - Processing document Public046.pdf\n"
     ]
    },
    {
     "name": "stdout",
     "output_type": "stream",
     "text": [
      "✓ Completed: Public045.pdf\n"
     ]
    },
    {
     "name": "stderr",
     "output_type": "stream",
     "text": [
      "2025-10-19 03:53:25,530 - INFO - Finished converting document Public046.pdf in 60.64 sec.\n",
      "2025-10-19 03:53:25,563 - INFO - detected formats: [<InputFormat.PDF: 'pdf'>]\n",
      "2025-10-19 03:53:25,566 - INFO - Going to convert document batch...\n",
      "2025-10-19 03:53:25,568 - INFO - Processing document Public047.pdf\n"
     ]
    },
    {
     "name": "stdout",
     "output_type": "stream",
     "text": [
      "✓ Completed: Public046.pdf\n",
      "Processing batch 17: ['Public047.pdf', 'Public048 copy.pdf', 'Public048.pdf']\n"
     ]
    },
    {
     "name": "stderr",
     "output_type": "stream",
     "text": [
      "2025-10-19 03:53:56,512 - INFO - Finished converting document Public047.pdf in 30.97 sec.\n",
      "2025-10-19 03:53:56,528 - INFO - detected formats: [<InputFormat.PDF: 'pdf'>]\n",
      "2025-10-19 03:53:56,534 - INFO - Going to convert document batch...\n",
      "2025-10-19 03:53:56,534 - INFO - Processing document Public048 copy.pdf\n"
     ]
    },
    {
     "name": "stdout",
     "output_type": "stream",
     "text": [
      "✓ Completed: Public047.pdf\n"
     ]
    },
    {
     "name": "stderr",
     "output_type": "stream",
     "text": [
      "2025-10-19 03:54:22,525 - INFO - Finished converting document Public048 copy.pdf in 25.99 sec.\n",
      "2025-10-19 03:54:22,538 - INFO - detected formats: [<InputFormat.PDF: 'pdf'>]\n",
      "2025-10-19 03:54:22,538 - INFO - Going to convert document batch...\n",
      "2025-10-19 03:54:22,545 - INFO - Processing document Public048.pdf\n"
     ]
    },
    {
     "name": "stdout",
     "output_type": "stream",
     "text": [
      "✓ Completed: Public048 copy.pdf\n"
     ]
    },
    {
     "name": "stderr",
     "output_type": "stream",
     "text": [
      "2025-10-19 03:54:48,436 - INFO - Finished converting document Public048.pdf in 25.91 sec.\n",
      "2025-10-19 03:54:48,451 - INFO - detected formats: [<InputFormat.PDF: 'pdf'>]\n",
      "2025-10-19 03:54:48,451 - INFO - Going to convert document batch...\n",
      "2025-10-19 03:54:48,451 - INFO - Processing document Public049.pdf\n"
     ]
    },
    {
     "name": "stdout",
     "output_type": "stream",
     "text": [
      "✓ Completed: Public048.pdf\n",
      "Processing batch 18: ['Public049.pdf', 'Public050.pdf', 'Public051 copy.pdf']\n"
     ]
    },
    {
     "name": "stderr",
     "output_type": "stream",
     "text": [
      "2025-10-19 03:56:09,150 - INFO - Finished converting document Public049.pdf in 80.69 sec.\n",
      "2025-10-19 03:56:09,166 - INFO - detected formats: [<InputFormat.PDF: 'pdf'>]\n",
      "2025-10-19 03:56:09,166 - INFO - Going to convert document batch...\n",
      "2025-10-19 03:56:09,170 - INFO - Processing document Public050.pdf\n"
     ]
    },
    {
     "name": "stdout",
     "output_type": "stream",
     "text": [
      "✓ Completed: Public049.pdf\n"
     ]
    },
    {
     "name": "stderr",
     "output_type": "stream",
     "text": [
      "2025-10-19 04:06:53,444 - INFO - Finished converting document Public050.pdf in 644.30 sec.\n",
      "2025-10-19 04:06:53,543 - INFO - detected formats: [<InputFormat.PDF: 'pdf'>]\n",
      "2025-10-19 04:06:53,550 - INFO - Going to convert document batch...\n",
      "2025-10-19 04:06:53,550 - INFO - Processing document Public051 copy.pdf\n"
     ]
    },
    {
     "name": "stdout",
     "output_type": "stream",
     "text": [
      "✓ Completed: Public050.pdf\n"
     ]
    },
    {
     "name": "stderr",
     "output_type": "stream",
     "text": [
      "2025-10-19 04:25:44,622 - INFO - Finished converting document Public051 copy.pdf in 1131.08 sec.\n",
      "2025-10-19 04:25:45,583 - INFO - detected formats: [<InputFormat.PDF: 'pdf'>]\n",
      "2025-10-19 04:25:45,589 - INFO - Going to convert document batch...\n",
      "2025-10-19 04:25:45,589 - INFO - Processing document Public051.pdf\n"
     ]
    },
    {
     "name": "stdout",
     "output_type": "stream",
     "text": [
      "✓ Completed: Public051 copy.pdf\n",
      "Processing batch 19: ['Public051.pdf', 'Public052.pdf', 'Public053.pdf']\n"
     ]
    },
    {
     "name": "stderr",
     "output_type": "stream",
     "text": [
      "2025-10-19 04:44:13,543 - INFO - Finished converting document Public051.pdf in 1107.97 sec.\n",
      "2025-10-19 04:44:14,511 - INFO - detected formats: [<InputFormat.PDF: 'pdf'>]\n",
      "2025-10-19 04:44:14,526 - INFO - Going to convert document batch...\n",
      "2025-10-19 04:44:14,526 - INFO - Processing document Public052.pdf\n"
     ]
    },
    {
     "name": "stdout",
     "output_type": "stream",
     "text": [
      "✓ Completed: Public051.pdf\n"
     ]
    },
    {
     "name": "stderr",
     "output_type": "stream",
     "text": [
      "2025-10-19 04:45:10,599 - INFO - Finished converting document Public052.pdf in 56.09 sec.\n",
      "2025-10-19 04:45:10,652 - INFO - detected formats: [<InputFormat.PDF: 'pdf'>]\n",
      "2025-10-19 04:45:10,655 - INFO - Going to convert document batch...\n",
      "2025-10-19 04:45:10,655 - INFO - Processing document Public053.pdf\n"
     ]
    },
    {
     "name": "stdout",
     "output_type": "stream",
     "text": [
      "✓ Completed: Public052.pdf\n"
     ]
    },
    {
     "name": "stderr",
     "output_type": "stream",
     "text": [
      "2025-10-19 04:47:19,467 - INFO - Finished converting document Public053.pdf in 128.83 sec.\n",
      "2025-10-19 04:47:19,510 - INFO - detected formats: [<InputFormat.PDF: 'pdf'>]\n",
      "2025-10-19 04:47:19,513 - INFO - Going to convert document batch...\n",
      "2025-10-19 04:47:19,513 - INFO - Processing document Public054.pdf\n"
     ]
    },
    {
     "name": "stdout",
     "output_type": "stream",
     "text": [
      "✓ Completed: Public053.pdf\n",
      "Processing batch 20: ['Public054.pdf', 'Public055.pdf', 'Public056.pdf']\n"
     ]
    },
    {
     "name": "stderr",
     "output_type": "stream",
     "text": [
      "2025-10-19 04:48:12,699 - INFO - Finished converting document Public054.pdf in 53.19 sec.\n",
      "2025-10-19 04:48:12,717 - INFO - detected formats: [<InputFormat.PDF: 'pdf'>]\n",
      "2025-10-19 04:48:12,722 - INFO - Going to convert document batch...\n",
      "2025-10-19 04:48:12,722 - INFO - Processing document Public055.pdf\n"
     ]
    },
    {
     "name": "stdout",
     "output_type": "stream",
     "text": [
      "✓ Completed: Public054.pdf\n"
     ]
    },
    {
     "name": "stderr",
     "output_type": "stream",
     "text": [
      "2025-10-19 04:49:50,756 - INFO - Finished converting document Public055.pdf in 98.03 sec.\n",
      "2025-10-19 04:49:50,787 - INFO - detected formats: [<InputFormat.PDF: 'pdf'>]\n",
      "2025-10-19 04:49:50,789 - INFO - Going to convert document batch...\n",
      "2025-10-19 04:49:50,790 - INFO - Processing document Public056.pdf\n"
     ]
    },
    {
     "name": "stdout",
     "output_type": "stream",
     "text": [
      "✓ Completed: Public055.pdf\n"
     ]
    },
    {
     "name": "stderr",
     "output_type": "stream",
     "text": [
      "2025-10-19 04:51:13,203 - INFO - Finished converting document Public056.pdf in 82.42 sec.\n",
      "2025-10-19 04:51:13,238 - INFO - detected formats: [<InputFormat.PDF: 'pdf'>]\n",
      "2025-10-19 04:51:13,240 - INFO - Going to convert document batch...\n",
      "2025-10-19 04:51:13,241 - INFO - Processing document Public057.pdf\n"
     ]
    },
    {
     "name": "stdout",
     "output_type": "stream",
     "text": [
      "✓ Completed: Public056.pdf\n",
      "Processing batch 21: ['Public057.pdf', 'Public058.pdf', 'Public059.pdf']\n"
     ]
    },
    {
     "name": "stderr",
     "output_type": "stream",
     "text": [
      "2025-10-19 04:52:28,234 - INFO - Finished converting document Public057.pdf in 75.00 sec.\n",
      "2025-10-19 04:52:28,250 - INFO - detected formats: [<InputFormat.PDF: 'pdf'>]\n",
      "2025-10-19 04:52:28,266 - INFO - Going to convert document batch...\n",
      "2025-10-19 04:52:28,266 - INFO - Processing document Public058.pdf\n"
     ]
    },
    {
     "name": "stdout",
     "output_type": "stream",
     "text": [
      "✓ Completed: Public057.pdf\n"
     ]
    },
    {
     "name": "stderr",
     "output_type": "stream",
     "text": [
      "2025-10-19 04:53:05,933 - INFO - Finished converting document Public058.pdf in 37.67 sec.\n",
      "2025-10-19 04:53:05,943 - INFO - detected formats: [<InputFormat.PDF: 'pdf'>]\n",
      "2025-10-19 04:53:05,943 - INFO - Going to convert document batch...\n",
      "2025-10-19 04:53:05,943 - INFO - Processing document Public059.pdf\n"
     ]
    },
    {
     "name": "stdout",
     "output_type": "stream",
     "text": [
      "✓ Completed: Public058.pdf\n"
     ]
    },
    {
     "name": "stderr",
     "output_type": "stream",
     "text": [
      "2025-10-19 04:53:37,300 - INFO - Finished converting document Public059.pdf in 31.36 sec.\n",
      "2025-10-19 04:53:37,308 - INFO - detected formats: [<InputFormat.PDF: 'pdf'>]\n",
      "2025-10-19 04:53:37,308 - INFO - Going to convert document batch...\n",
      "2025-10-19 04:53:37,308 - INFO - Processing document Public060.pdf\n"
     ]
    },
    {
     "name": "stdout",
     "output_type": "stream",
     "text": [
      "✓ Completed: Public059.pdf\n",
      "Processing batch 22: ['Public060.pdf', 'Public061.pdf', 'Public062.pdf']\n"
     ]
    },
    {
     "name": "stderr",
     "output_type": "stream",
     "text": [
      "2025-10-19 04:59:24,488 - INFO - Finished converting document Public060.pdf in 347.17 sec.\n",
      "2025-10-19 04:59:24,504 - INFO - detected formats: [<InputFormat.PDF: 'pdf'>]\n",
      "2025-10-19 04:59:24,508 - INFO - Going to convert document batch...\n",
      "2025-10-19 04:59:24,508 - INFO - Processing document Public061.pdf\n"
     ]
    },
    {
     "name": "stdout",
     "output_type": "stream",
     "text": [
      "✓ Completed: Public060.pdf\n"
     ]
    },
    {
     "name": "stderr",
     "output_type": "stream",
     "text": [
      "2025-10-19 04:59:54,650 - INFO - Finished converting document Public061.pdf in 30.14 sec.\n",
      "2025-10-19 04:59:54,663 - INFO - detected formats: [<InputFormat.PDF: 'pdf'>]\n",
      "2025-10-19 04:59:54,663 - INFO - Going to convert document batch...\n",
      "2025-10-19 04:59:54,663 - INFO - Processing document Public062.pdf\n"
     ]
    },
    {
     "name": "stdout",
     "output_type": "stream",
     "text": [
      "✓ Completed: Public061.pdf\n"
     ]
    },
    {
     "name": "stderr",
     "output_type": "stream",
     "text": [
      "2025-10-19 05:01:35,165 - INFO - Finished converting document Public062.pdf in 100.50 sec.\n",
      "2025-10-19 05:01:35,186 - INFO - detected formats: [<InputFormat.PDF: 'pdf'>]\n",
      "2025-10-19 05:01:35,187 - INFO - Going to convert document batch...\n",
      "2025-10-19 05:01:35,190 - INFO - Processing document Public063.pdf\n"
     ]
    },
    {
     "name": "stdout",
     "output_type": "stream",
     "text": [
      "✓ Completed: Public062.pdf\n",
      "Processing batch 23: ['Public063.pdf', 'Public064.pdf', 'Public065.pdf']\n"
     ]
    },
    {
     "name": "stderr",
     "output_type": "stream",
     "text": [
      "2025-10-19 05:13:24,737 - INFO - detected formats: [<InputFormat.PDF: 'pdf'>]\n",
      "2025-10-19 05:13:24,741 - INFO - Going to convert document batch...\n",
      "2025-10-19 05:13:24,742 - INFO - Processing document Public064.pdf\n"
     ]
    },
    {
     "name": "stdout",
     "output_type": "stream",
     "text": [
      "❌ Error processing Public063.pdf: maximum recursion depth exceeded\n"
     ]
    },
    {
     "name": "stderr",
     "output_type": "stream",
     "text": [
      "2025-10-19 05:20:00,261 - INFO - Finished converting document Public064.pdf in 395.52 sec.\n",
      "2025-10-19 05:20:00,278 - INFO - detected formats: [<InputFormat.PDF: 'pdf'>]\n",
      "2025-10-19 05:20:00,278 - INFO - Going to convert document batch...\n",
      "2025-10-19 05:20:00,278 - INFO - Processing document Public065.pdf\n"
     ]
    },
    {
     "name": "stdout",
     "output_type": "stream",
     "text": [
      "✓ Completed: Public064.pdf\n"
     ]
    },
    {
     "name": "stderr",
     "output_type": "stream",
     "text": [
      "2025-10-19 05:20:21,502 - INFO - Finished converting document Public065.pdf in 21.22 sec.\n",
      "2025-10-19 05:20:21,510 - INFO - detected formats: [<InputFormat.PDF: 'pdf'>]\n",
      "2025-10-19 05:20:21,510 - INFO - Going to convert document batch...\n",
      "2025-10-19 05:20:21,510 - INFO - Processing document Public066.pdf\n"
     ]
    },
    {
     "name": "stdout",
     "output_type": "stream",
     "text": [
      "✓ Completed: Public065.pdf\n",
      "Processing batch 24: ['Public066.pdf', 'Public067.pdf', 'Public068.pdf']\n"
     ]
    },
    {
     "name": "stderr",
     "output_type": "stream",
     "text": [
      "2025-10-19 05:20:49,201 - INFO - Finished converting document Public066.pdf in 27.70 sec.\n",
      "2025-10-19 05:20:49,201 - INFO - detected formats: [<InputFormat.PDF: 'pdf'>]\n",
      "2025-10-19 05:20:49,201 - INFO - Going to convert document batch...\n",
      "2025-10-19 05:20:49,201 - INFO - Processing document Public067.pdf\n"
     ]
    },
    {
     "name": "stdout",
     "output_type": "stream",
     "text": [
      "✓ Completed: Public066.pdf\n"
     ]
    },
    {
     "name": "stderr",
     "output_type": "stream",
     "text": [
      "2025-10-19 05:21:13,817 - INFO - Finished converting document Public067.pdf in 24.61 sec.\n",
      "2025-10-19 05:21:13,833 - INFO - detected formats: [<InputFormat.PDF: 'pdf'>]\n",
      "2025-10-19 05:21:13,833 - INFO - Going to convert document batch...\n",
      "2025-10-19 05:21:13,833 - INFO - Processing document Public068.pdf\n"
     ]
    },
    {
     "name": "stdout",
     "output_type": "stream",
     "text": [
      "✓ Completed: Public067.pdf\n"
     ]
    },
    {
     "name": "stderr",
     "output_type": "stream",
     "text": [
      "2025-10-19 06:31:42,591 - INFO - Finished converting document Public068.pdf in 4228.78 sec.\n",
      "2025-10-19 06:31:42,748 - INFO - detected formats: [<InputFormat.PDF: 'pdf'>]\n",
      "2025-10-19 06:31:42,748 - INFO - Going to convert document batch...\n",
      "2025-10-19 06:31:42,754 - INFO - Processing document Public069.pdf\n"
     ]
    },
    {
     "name": "stdout",
     "output_type": "stream",
     "text": [
      "✓ Completed: Public068.pdf\n",
      "Processing batch 25: ['Public069.pdf', 'Public070.pdf', 'Public071.pdf']\n"
     ]
    }
   ],
   "source": [
    "if __name__ == '__main__':\n",
    "    start_time = time.perf_counter()  # Use perf_counter for higher precision\n",
    "    extract_text_to_markdown('private-test-input', '../scratch')\n",
    "\n",
    "    end_time = time.perf_counter()\n",
    "    elapsed_time = end_time - start_time\n",
    "    print(f\"Elapsed time: {elapsed_time:.4f} seconds\")\n",
    "    ollama_proc.terminate() # type: ignore"
   ]
  },
  {
   "cell_type": "markdown",
   "id": "9329a362",
   "metadata": {},
   "source": [
    "# Annotate images with ollama"
   ]
  },
  {
   "cell_type": "code",
   "execution_count": null,
   "id": "5e7d5c1d",
   "metadata": {},
   "outputs": [],
   "source": [
    "import sys\n",
    "from pathlib import Path\n",
    "\n",
    "# Thêm đường dẫn project vào sys.path\n",
    "project_root = Path.cwd().parent\n",
    "if str(project_root) not in sys.path:\n",
    "    sys.path.insert(0, str(project_root))\n",
    "\n",
    "from docling.datamodel.base_models import InputFormat\n",
    "from docling.datamodel.pipeline_options import (\n",
    "    PdfPipelineOptions,\n",
    "    PictureDescriptionApiOptions\n",
    ")\n",
    "from docling.document_converter import DocumentConverter, PdfFormatOption\n",
    "from docling_core.types.doc.base import ImageRefMode\n",
    "from src.config import config"
   ]
  },
  {
   "cell_type": "code",
   "execution_count": null,
   "id": "5c9d3c4e",
   "metadata": {},
   "outputs": [],
   "source": [
    "def convert_with_image_annotation(input_doc_path):\n",
    "    # Đọc cấu hình từ config.yaml\n",
    "    base_url = config.get(\"model\", \"url\", default=\"http://localhost:11434/v1\")\n",
    "    vision_model = config.get(\"model\", \"vision_model\", default=\"\")\n",
    "    text_model = config.get(\"model\", \"text_generation\", default=\"\")\n",
    "    picture_prompt = config.get(\"document\", \"picture_description\", \"prompt_picture_description\",\n",
    "                                default=\"Miêu tả chi tiết hình ảnh sau bằng một đoạn văn.\")\n",
    "    pd_enabled = config.get(\"document\", \"picture_description\", \"enabled\", default=True)\n",
    "    image_scale = config.get(\"document\", \"image_resolution_scale\", default=2)\n",
    "\n",
    "    # Nếu tắt picture description, không dùng remote API\n",
    "    if not pd_enabled:\n",
    "        pipeline_options = PdfPipelineOptions(\n",
    "            images_scale=image_scale,\n",
    "            generate_picture_images=False,\n",
    "            do_picture_description=False,\n",
    "            picture_description_options=None,\n",
    "            enable_remote_services=False,\n",
    "        )\n",
    "    else:\n",
    "        # Dùng vision_model nếu có, fallback sang text_model\n",
    "        model_name = vision_model if vision_model else text_model\n",
    "\n",
    "        # Chuẩn hóa URL cho Ollama OpenAI-compatible API\n",
    "        if not base_url.endswith(\"/chat/completions\") and not base_url.endswith(\"/v1/chat/completions\"):\n",
    "            if base_url.endswith(\"/v1\"):\n",
    "                api_url = f\"{base_url}/chat/completions\"\n",
    "            else:\n",
    "                api_url = f\"{base_url}/v1/chat/completions\"\n",
    "        else:\n",
    "            api_url = base_url\n",
    "\n",
    "        picture_desc_api_option = PictureDescriptionApiOptions(\n",
    "            url=api_url,\n",
    "            prompt=picture_prompt,\n",
    "            params={\"model\": model_name},\n",
    "            timeout=60,\n",
    "        )\n",
    "\n",
    "        pipeline_options = PdfPipelineOptions(\n",
    "            images_scale=image_scale,\n",
    "            generate_picture_images=True,\n",
    "            do_picture_description=True,\n",
    "            picture_description_options=picture_desc_api_option,\n",
    "            enable_remote_services=True,\n",
    "        )\n",
    "\n",
    "    converter = DocumentConverter(\n",
    "        format_options={InputFormat.PDF: PdfFormatOption(pipeline_options=pipeline_options)}\n",
    "    )\n",
    "    conv_res = converter.convert(source=input_doc_path)\n",
    "    return conv_res"
   ]
  },
  {
   "cell_type": "code",
   "execution_count": 9,
   "id": "5d3a9817",
   "metadata": {},
   "outputs": [
    {
     "name": "stderr",
     "output_type": "stream",
     "text": [
      "2025-10-17 16:54:30,127 - INFO - detected formats: [<InputFormat.PDF: 'pdf'>]\n",
      "2025-10-17 16:54:30,132 - INFO - Going to convert document batch...\n",
      "2025-10-17 16:54:30,133 - INFO - Initializing pipeline for StandardPdfPipeline with options hash 68e059f3e75bb40d4b4d82a1df76f3d7\n",
      "2025-10-17 16:54:30,133 - INFO - Accelerator device: 'mps'\n"
     ]
    },
    {
     "ename": "KeyboardInterrupt",
     "evalue": "",
     "output_type": "error",
     "traceback": [
      "\u001b[31m---------------------------------------------------------------------------\u001b[39m",
      "\u001b[31mKeyboardInterrupt\u001b[39m                         Traceback (most recent call last)",
      "\u001b[36mCell\u001b[39m\u001b[36m \u001b[39m\u001b[32mIn[9]\u001b[39m\u001b[32m, line 1\u001b[39m\n\u001b[32m----> \u001b[39m\u001b[32m1\u001b[39m result = \u001b[43mconvert_with_image_annotation\u001b[49m\u001b[43m(\u001b[49m\u001b[43mfile\u001b[49m\u001b[43m)\u001b[49m\n",
      "\u001b[36mCell\u001b[39m\u001b[36m \u001b[39m\u001b[32mIn[8]\u001b[39m\u001b[32m, line 51\u001b[39m, in \u001b[36mconvert_with_image_annotation\u001b[39m\u001b[34m(input_doc_path)\u001b[39m\n\u001b[32m     40\u001b[39m     pipeline_options = PdfPipelineOptions(\n\u001b[32m     41\u001b[39m         images_scale=image_scale,\n\u001b[32m     42\u001b[39m         generate_picture_images=\u001b[38;5;28;01mTrue\u001b[39;00m,\n\u001b[32m   (...)\u001b[39m\u001b[32m     45\u001b[39m         enable_remote_services=\u001b[38;5;28;01mTrue\u001b[39;00m,\n\u001b[32m     46\u001b[39m     )\n\u001b[32m     48\u001b[39m converter = DocumentConverter(\n\u001b[32m     49\u001b[39m     format_options={InputFormat.PDF: PdfFormatOption(pipeline_options=pipeline_options)}\n\u001b[32m     50\u001b[39m )\n\u001b[32m---> \u001b[39m\u001b[32m51\u001b[39m conv_res = \u001b[43mconverter\u001b[49m\u001b[43m.\u001b[49m\u001b[43mconvert\u001b[49m\u001b[43m(\u001b[49m\u001b[43msource\u001b[49m\u001b[43m=\u001b[49m\u001b[43minput_doc_path\u001b[49m\u001b[43m)\u001b[49m\n\u001b[32m     52\u001b[39m \u001b[38;5;28;01mreturn\u001b[39;00m conv_res\n",
      "\u001b[36mFile \u001b[39m\u001b[32m/opt/anaconda3/envs/demo/lib/python3.11/site-packages/pydantic/_internal/_validate_call.py:39\u001b[39m, in \u001b[36mupdate_wrapper_attributes.<locals>.wrapper_function\u001b[39m\u001b[34m(*args, **kwargs)\u001b[39m\n\u001b[32m     37\u001b[39m \u001b[38;5;129m@functools\u001b[39m.wraps(wrapped)\n\u001b[32m     38\u001b[39m \u001b[38;5;28;01mdef\u001b[39;00m\u001b[38;5;250m \u001b[39m\u001b[34mwrapper_function\u001b[39m(*args, **kwargs):\n\u001b[32m---> \u001b[39m\u001b[32m39\u001b[39m     \u001b[38;5;28;01mreturn\u001b[39;00m \u001b[43mwrapper\u001b[49m\u001b[43m(\u001b[49m\u001b[43m*\u001b[49m\u001b[43margs\u001b[49m\u001b[43m,\u001b[49m\u001b[43m \u001b[49m\u001b[43m*\u001b[49m\u001b[43m*\u001b[49m\u001b[43mkwargs\u001b[49m\u001b[43m)\u001b[49m\n",
      "\u001b[36mFile \u001b[39m\u001b[32m/opt/anaconda3/envs/demo/lib/python3.11/site-packages/pydantic/_internal/_validate_call.py:136\u001b[39m, in \u001b[36mValidateCallWrapper.__call__\u001b[39m\u001b[34m(self, *args, **kwargs)\u001b[39m\n\u001b[32m    133\u001b[39m \u001b[38;5;28;01mif\u001b[39;00m \u001b[38;5;129;01mnot\u001b[39;00m \u001b[38;5;28mself\u001b[39m.__pydantic_complete__:\n\u001b[32m    134\u001b[39m     \u001b[38;5;28mself\u001b[39m._create_validators()\n\u001b[32m--> \u001b[39m\u001b[32m136\u001b[39m res = \u001b[38;5;28;43mself\u001b[39;49m\u001b[43m.\u001b[49m\u001b[43m__pydantic_validator__\u001b[49m\u001b[43m.\u001b[49m\u001b[43mvalidate_python\u001b[49m\u001b[43m(\u001b[49m\u001b[43mpydantic_core\u001b[49m\u001b[43m.\u001b[49m\u001b[43mArgsKwargs\u001b[49m\u001b[43m(\u001b[49m\u001b[43margs\u001b[49m\u001b[43m,\u001b[49m\u001b[43m \u001b[49m\u001b[43mkwargs\u001b[49m\u001b[43m)\u001b[49m\u001b[43m)\u001b[49m\n\u001b[32m    137\u001b[39m \u001b[38;5;28;01mif\u001b[39;00m \u001b[38;5;28mself\u001b[39m.__return_pydantic_validator__:\n\u001b[32m    138\u001b[39m     \u001b[38;5;28;01mreturn\u001b[39;00m \u001b[38;5;28mself\u001b[39m.__return_pydantic_validator__(res)\n",
      "\u001b[36mFile \u001b[39m\u001b[32m/opt/anaconda3/envs/demo/lib/python3.11/site-packages/docling/document_converter.py:245\u001b[39m, in \u001b[36mDocumentConverter.convert\u001b[39m\u001b[34m(self, source, headers, raises_on_error, max_num_pages, max_file_size, page_range)\u001b[39m\n\u001b[32m    227\u001b[39m \u001b[38;5;129m@validate_call\u001b[39m(config=ConfigDict(strict=\u001b[38;5;28;01mTrue\u001b[39;00m))\n\u001b[32m    228\u001b[39m \u001b[38;5;28;01mdef\u001b[39;00m\u001b[38;5;250m \u001b[39m\u001b[34mconvert\u001b[39m(\n\u001b[32m    229\u001b[39m     \u001b[38;5;28mself\u001b[39m,\n\u001b[32m   (...)\u001b[39m\u001b[32m    235\u001b[39m     page_range: PageRange = DEFAULT_PAGE_RANGE,\n\u001b[32m    236\u001b[39m ) -> ConversionResult:\n\u001b[32m    237\u001b[39m     all_res = \u001b[38;5;28mself\u001b[39m.convert_all(\n\u001b[32m    238\u001b[39m         source=[source],\n\u001b[32m    239\u001b[39m         raises_on_error=raises_on_error,\n\u001b[32m   (...)\u001b[39m\u001b[32m    243\u001b[39m         page_range=page_range,\n\u001b[32m    244\u001b[39m     )\n\u001b[32m--> \u001b[39m\u001b[32m245\u001b[39m     \u001b[38;5;28;01mreturn\u001b[39;00m \u001b[38;5;28;43mnext\u001b[39;49m\u001b[43m(\u001b[49m\u001b[43mall_res\u001b[49m\u001b[43m)\u001b[49m\n",
      "\u001b[36mFile \u001b[39m\u001b[32m/opt/anaconda3/envs/demo/lib/python3.11/site-packages/docling/document_converter.py:268\u001b[39m, in \u001b[36mDocumentConverter.convert_all\u001b[39m\u001b[34m(self, source, headers, raises_on_error, max_num_pages, max_file_size, page_range)\u001b[39m\n\u001b[32m    265\u001b[39m conv_res_iter = \u001b[38;5;28mself\u001b[39m._convert(conv_input, raises_on_error=raises_on_error)\n\u001b[32m    267\u001b[39m had_result = \u001b[38;5;28;01mFalse\u001b[39;00m\n\u001b[32m--> \u001b[39m\u001b[32m268\u001b[39m \u001b[43m\u001b[49m\u001b[38;5;28;43;01mfor\u001b[39;49;00m\u001b[43m \u001b[49m\u001b[43mconv_res\u001b[49m\u001b[43m \u001b[49m\u001b[38;5;129;43;01min\u001b[39;49;00m\u001b[43m \u001b[49m\u001b[43mconv_res_iter\u001b[49m\u001b[43m:\u001b[49m\n\u001b[32m    269\u001b[39m \u001b[43m    \u001b[49m\u001b[43mhad_result\u001b[49m\u001b[43m \u001b[49m\u001b[43m=\u001b[49m\u001b[43m \u001b[49m\u001b[38;5;28;43;01mTrue\u001b[39;49;00m\n\u001b[32m    270\u001b[39m \u001b[43m    \u001b[49m\u001b[38;5;28;43;01mif\u001b[39;49;00m\u001b[43m \u001b[49m\u001b[43mraises_on_error\u001b[49m\u001b[43m \u001b[49m\u001b[38;5;129;43;01mand\u001b[39;49;00m\u001b[43m \u001b[49m\u001b[43mconv_res\u001b[49m\u001b[43m.\u001b[49m\u001b[43mstatus\u001b[49m\u001b[43m \u001b[49m\u001b[38;5;129;43;01mnot\u001b[39;49;00m\u001b[43m \u001b[49m\u001b[38;5;129;43;01min\u001b[39;49;00m\u001b[43m \u001b[49m\u001b[43m{\u001b[49m\n\u001b[32m    271\u001b[39m \u001b[43m        \u001b[49m\u001b[43mConversionStatus\u001b[49m\u001b[43m.\u001b[49m\u001b[43mSUCCESS\u001b[49m\u001b[43m,\u001b[49m\n\u001b[32m    272\u001b[39m \u001b[43m        \u001b[49m\u001b[43mConversionStatus\u001b[49m\u001b[43m.\u001b[49m\u001b[43mPARTIAL_SUCCESS\u001b[49m\u001b[43m,\u001b[49m\n\u001b[32m    273\u001b[39m \u001b[43m    \u001b[49m\u001b[43m}\u001b[49m\u001b[43m:\u001b[49m\n",
      "\u001b[36mFile \u001b[39m\u001b[32m/opt/anaconda3/envs/demo/lib/python3.11/site-packages/docling/document_converter.py:340\u001b[39m, in \u001b[36mDocumentConverter._convert\u001b[39m\u001b[34m(self, conv_input, raises_on_error)\u001b[39m\n\u001b[32m    338\u001b[39m             \u001b[38;5;28;01myield\u001b[39;00m item\n\u001b[32m    339\u001b[39m \u001b[38;5;28;01melse\u001b[39;00m:\n\u001b[32m--> \u001b[39m\u001b[32m340\u001b[39m \u001b[43m    \u001b[49m\u001b[38;5;28;43;01mfor\u001b[39;49;00m\u001b[43m \u001b[49m\u001b[43mitem\u001b[49m\u001b[43m \u001b[49m\u001b[38;5;129;43;01min\u001b[39;49;00m\u001b[43m \u001b[49m\u001b[38;5;28;43mmap\u001b[39;49m\u001b[43m(\u001b[49m\n\u001b[32m    341\u001b[39m \u001b[43m        \u001b[49m\u001b[43mprocess_func\u001b[49m\u001b[43m,\u001b[49m\n\u001b[32m    342\u001b[39m \u001b[43m        \u001b[49m\u001b[43minput_batch\u001b[49m\u001b[43m,\u001b[49m\n\u001b[32m    343\u001b[39m \u001b[43m    \u001b[49m\u001b[43m)\u001b[49m\u001b[43m:\u001b[49m\n\u001b[32m    344\u001b[39m \u001b[43m        \u001b[49m\u001b[43melapsed\u001b[49m\u001b[43m \u001b[49m\u001b[43m=\u001b[49m\u001b[43m \u001b[49m\u001b[43mtime\u001b[49m\u001b[43m.\u001b[49m\u001b[43mmonotonic\u001b[49m\u001b[43m(\u001b[49m\u001b[43m)\u001b[49m\u001b[43m \u001b[49m\u001b[43m-\u001b[49m\u001b[43m \u001b[49m\u001b[43mstart_time\u001b[49m\n\u001b[32m    345\u001b[39m \u001b[43m        \u001b[49m\u001b[43mstart_time\u001b[49m\u001b[43m \u001b[49m\u001b[43m=\u001b[49m\u001b[43m \u001b[49m\u001b[43mtime\u001b[49m\u001b[43m.\u001b[49m\u001b[43mmonotonic\u001b[49m\u001b[43m(\u001b[49m\u001b[43m)\u001b[49m\n",
      "\u001b[36mFile \u001b[39m\u001b[32m/opt/anaconda3/envs/demo/lib/python3.11/site-packages/docling/document_converter.py:387\u001b[39m, in \u001b[36mDocumentConverter._process_document\u001b[39m\u001b[34m(self, in_doc, raises_on_error)\u001b[39m\n\u001b[32m    383\u001b[39m valid = (\n\u001b[32m    384\u001b[39m     \u001b[38;5;28mself\u001b[39m.allowed_formats \u001b[38;5;129;01mis\u001b[39;00m \u001b[38;5;129;01mnot\u001b[39;00m \u001b[38;5;28;01mNone\u001b[39;00m \u001b[38;5;129;01mand\u001b[39;00m in_doc.format \u001b[38;5;129;01min\u001b[39;00m \u001b[38;5;28mself\u001b[39m.allowed_formats\n\u001b[32m    385\u001b[39m )\n\u001b[32m    386\u001b[39m \u001b[38;5;28;01mif\u001b[39;00m valid:\n\u001b[32m--> \u001b[39m\u001b[32m387\u001b[39m     conv_res = \u001b[38;5;28;43mself\u001b[39;49m\u001b[43m.\u001b[49m\u001b[43m_execute_pipeline\u001b[49m\u001b[43m(\u001b[49m\u001b[43min_doc\u001b[49m\u001b[43m,\u001b[49m\u001b[43m \u001b[49m\u001b[43mraises_on_error\u001b[49m\u001b[43m=\u001b[49m\u001b[43mraises_on_error\u001b[49m\u001b[43m)\u001b[49m\n\u001b[32m    388\u001b[39m \u001b[38;5;28;01melse\u001b[39;00m:\n\u001b[32m    389\u001b[39m     error_message = \u001b[33mf\u001b[39m\u001b[33m\"\u001b[39m\u001b[33mFile format not allowed: \u001b[39m\u001b[38;5;132;01m{\u001b[39;00min_doc.file\u001b[38;5;132;01m}\u001b[39;00m\u001b[33m\"\u001b[39m\n",
      "\u001b[36mFile \u001b[39m\u001b[32m/opt/anaconda3/envs/demo/lib/python3.11/site-packages/docling/document_converter.py:408\u001b[39m, in \u001b[36mDocumentConverter._execute_pipeline\u001b[39m\u001b[34m(self, in_doc, raises_on_error)\u001b[39m\n\u001b[32m    404\u001b[39m \u001b[38;5;28;01mdef\u001b[39;00m\u001b[38;5;250m \u001b[39m\u001b[34m_execute_pipeline\u001b[39m(\n\u001b[32m    405\u001b[39m     \u001b[38;5;28mself\u001b[39m, in_doc: InputDocument, raises_on_error: \u001b[38;5;28mbool\u001b[39m\n\u001b[32m    406\u001b[39m ) -> ConversionResult:\n\u001b[32m    407\u001b[39m     \u001b[38;5;28;01mif\u001b[39;00m in_doc.valid:\n\u001b[32m--> \u001b[39m\u001b[32m408\u001b[39m         pipeline = \u001b[38;5;28;43mself\u001b[39;49m\u001b[43m.\u001b[49m\u001b[43m_get_pipeline\u001b[49m\u001b[43m(\u001b[49m\u001b[43min_doc\u001b[49m\u001b[43m.\u001b[49m\u001b[43mformat\u001b[49m\u001b[43m)\u001b[49m\n\u001b[32m    409\u001b[39m         \u001b[38;5;28;01mif\u001b[39;00m pipeline \u001b[38;5;129;01mis\u001b[39;00m \u001b[38;5;129;01mnot\u001b[39;00m \u001b[38;5;28;01mNone\u001b[39;00m:\n\u001b[32m    410\u001b[39m             conv_res = pipeline.execute(in_doc, raises_on_error=raises_on_error)\n",
      "\u001b[36mFile \u001b[39m\u001b[32m/opt/anaconda3/envs/demo/lib/python3.11/site-packages/docling/document_converter.py:370\u001b[39m, in \u001b[36mDocumentConverter._get_pipeline\u001b[39m\u001b[34m(self, doc_format)\u001b[39m\n\u001b[32m    366\u001b[39m \u001b[38;5;28;01mif\u001b[39;00m cache_key \u001b[38;5;129;01mnot\u001b[39;00m \u001b[38;5;129;01min\u001b[39;00m \u001b[38;5;28mself\u001b[39m.initialized_pipelines:\n\u001b[32m    367\u001b[39m     _log.info(\n\u001b[32m    368\u001b[39m         \u001b[33mf\u001b[39m\u001b[33m\"\u001b[39m\u001b[33mInitializing pipeline for \u001b[39m\u001b[38;5;132;01m{\u001b[39;00mpipeline_class.\u001b[34m__name__\u001b[39m\u001b[38;5;132;01m}\u001b[39;00m\u001b[33m with options hash \u001b[39m\u001b[38;5;132;01m{\u001b[39;00moptions_hash\u001b[38;5;132;01m}\u001b[39;00m\u001b[33m\"\u001b[39m\n\u001b[32m    369\u001b[39m     )\n\u001b[32m--> \u001b[39m\u001b[32m370\u001b[39m     \u001b[38;5;28mself\u001b[39m.initialized_pipelines[cache_key] = \u001b[43mpipeline_class\u001b[49m\u001b[43m(\u001b[49m\n\u001b[32m    371\u001b[39m \u001b[43m        \u001b[49m\u001b[43mpipeline_options\u001b[49m\u001b[43m=\u001b[49m\u001b[43mpipeline_options\u001b[49m\n\u001b[32m    372\u001b[39m \u001b[43m    \u001b[49m\u001b[43m)\u001b[49m\n\u001b[32m    373\u001b[39m \u001b[38;5;28;01melse\u001b[39;00m:\n\u001b[32m    374\u001b[39m     _log.debug(\n\u001b[32m    375\u001b[39m         \u001b[33mf\u001b[39m\u001b[33m\"\u001b[39m\u001b[33mReusing cached pipeline for \u001b[39m\u001b[38;5;132;01m{\u001b[39;00mpipeline_class.\u001b[34m__name__\u001b[39m\u001b[38;5;132;01m}\u001b[39;00m\u001b[33m with options hash \u001b[39m\u001b[38;5;132;01m{\u001b[39;00moptions_hash\u001b[38;5;132;01m}\u001b[39;00m\u001b[33m\"\u001b[39m\n\u001b[32m    376\u001b[39m     )\n",
      "\u001b[36mFile \u001b[39m\u001b[32m/opt/anaconda3/envs/demo/lib/python3.11/site-packages/docling/pipeline/standard_pdf_pipeline.py:49\u001b[39m, in \u001b[36mStandardPdfPipeline.__init__\u001b[39m\u001b[34m(self, pipeline_options)\u001b[39m\n\u001b[32m     41\u001b[39m     \u001b[38;5;28mself\u001b[39m.keep_images = (\n\u001b[32m     42\u001b[39m         \u001b[38;5;28mself\u001b[39m.pipeline_options.generate_page_images\n\u001b[32m     43\u001b[39m         \u001b[38;5;129;01mor\u001b[39;00m \u001b[38;5;28mself\u001b[39m.pipeline_options.generate_picture_images\n\u001b[32m     44\u001b[39m         \u001b[38;5;129;01mor\u001b[39;00m \u001b[38;5;28mself\u001b[39m.pipeline_options.generate_table_images\n\u001b[32m     45\u001b[39m     )\n\u001b[32m     47\u001b[39m \u001b[38;5;28mself\u001b[39m.reading_order_model = ReadingOrderModel(options=ReadingOrderOptions())\n\u001b[32m---> \u001b[39m\u001b[32m49\u001b[39m ocr_model = \u001b[38;5;28;43mself\u001b[39;49m\u001b[43m.\u001b[49m\u001b[43mget_ocr_model\u001b[49m\u001b[43m(\u001b[49m\u001b[43martifacts_path\u001b[49m\u001b[43m=\u001b[49m\u001b[38;5;28;43mself\u001b[39;49m\u001b[43m.\u001b[49m\u001b[43martifacts_path\u001b[49m\u001b[43m)\u001b[49m\n\u001b[32m     51\u001b[39m \u001b[38;5;28mself\u001b[39m.build_pipe = [\n\u001b[32m     52\u001b[39m     \u001b[38;5;66;03m# Pre-processing\u001b[39;00m\n\u001b[32m     53\u001b[39m     PagePreprocessingModel(\n\u001b[32m   (...)\u001b[39m\u001b[32m     74\u001b[39m     PageAssembleModel(options=PageAssembleOptions()),\n\u001b[32m     75\u001b[39m ]\n\u001b[32m     77\u001b[39m \u001b[38;5;28mself\u001b[39m.enrichment_pipe = [\n\u001b[32m     78\u001b[39m     \u001b[38;5;66;03m# Code Formula Enrichment Model\u001b[39;00m\n\u001b[32m     79\u001b[39m     CodeFormulaModel(\n\u001b[32m   (...)\u001b[39m\u001b[32m     89\u001b[39m     *\u001b[38;5;28mself\u001b[39m.enrichment_pipe,\n\u001b[32m     90\u001b[39m ]\n",
      "\u001b[36mFile \u001b[39m\u001b[32m/opt/anaconda3/envs/demo/lib/python3.11/site-packages/docling/pipeline/standard_pdf_pipeline.py:119\u001b[39m, in \u001b[36mStandardPdfPipeline.get_ocr_model\u001b[39m\u001b[34m(self, artifacts_path)\u001b[39m\n\u001b[32m    115\u001b[39m \u001b[38;5;28;01mdef\u001b[39;00m\u001b[38;5;250m \u001b[39m\u001b[34mget_ocr_model\u001b[39m(\u001b[38;5;28mself\u001b[39m, artifacts_path: Optional[Path] = \u001b[38;5;28;01mNone\u001b[39;00m) -> BaseOcrModel:\n\u001b[32m    116\u001b[39m     factory = get_ocr_factory(\n\u001b[32m    117\u001b[39m         allow_external_plugins=\u001b[38;5;28mself\u001b[39m.pipeline_options.allow_external_plugins\n\u001b[32m    118\u001b[39m     )\n\u001b[32m--> \u001b[39m\u001b[32m119\u001b[39m     \u001b[38;5;28;01mreturn\u001b[39;00m \u001b[43mfactory\u001b[49m\u001b[43m.\u001b[49m\u001b[43mcreate_instance\u001b[49m\u001b[43m(\u001b[49m\n\u001b[32m    120\u001b[39m \u001b[43m        \u001b[49m\u001b[43moptions\u001b[49m\u001b[43m=\u001b[49m\u001b[38;5;28;43mself\u001b[39;49m\u001b[43m.\u001b[49m\u001b[43mpipeline_options\u001b[49m\u001b[43m.\u001b[49m\u001b[43mocr_options\u001b[49m\u001b[43m,\u001b[49m\n\u001b[32m    121\u001b[39m \u001b[43m        \u001b[49m\u001b[43menabled\u001b[49m\u001b[43m=\u001b[49m\u001b[38;5;28;43mself\u001b[39;49m\u001b[43m.\u001b[49m\u001b[43mpipeline_options\u001b[49m\u001b[43m.\u001b[49m\u001b[43mdo_ocr\u001b[49m\u001b[43m,\u001b[49m\n\u001b[32m    122\u001b[39m \u001b[43m        \u001b[49m\u001b[43martifacts_path\u001b[49m\u001b[43m=\u001b[49m\u001b[43martifacts_path\u001b[49m\u001b[43m,\u001b[49m\n\u001b[32m    123\u001b[39m \u001b[43m        \u001b[49m\u001b[43maccelerator_options\u001b[49m\u001b[43m=\u001b[49m\u001b[38;5;28;43mself\u001b[39;49m\u001b[43m.\u001b[49m\u001b[43mpipeline_options\u001b[49m\u001b[43m.\u001b[49m\u001b[43maccelerator_options\u001b[49m\u001b[43m,\u001b[49m\n\u001b[32m    124\u001b[39m \u001b[43m    \u001b[49m\u001b[43m)\u001b[49m\n",
      "\u001b[36mFile \u001b[39m\u001b[32m/opt/anaconda3/envs/demo/lib/python3.11/site-packages/docling/models/factories/base_factory.py:57\u001b[39m, in \u001b[36mBaseFactory.create_instance\u001b[39m\u001b[34m(self, options, **kwargs)\u001b[39m\n\u001b[32m     55\u001b[39m \u001b[38;5;28;01mtry\u001b[39;00m:\n\u001b[32m     56\u001b[39m     _cls = \u001b[38;5;28mself\u001b[39m._classes[\u001b[38;5;28mtype\u001b[39m(options)]\n\u001b[32m---> \u001b[39m\u001b[32m57\u001b[39m     \u001b[38;5;28;01mreturn\u001b[39;00m \u001b[43m_cls\u001b[49m\u001b[43m(\u001b[49m\u001b[43moptions\u001b[49m\u001b[43m=\u001b[49m\u001b[43moptions\u001b[49m\u001b[43m,\u001b[49m\u001b[43m \u001b[49m\u001b[43m*\u001b[49m\u001b[43m*\u001b[49m\u001b[43mkwargs\u001b[49m\u001b[43m)\u001b[49m\n\u001b[32m     58\u001b[39m \u001b[38;5;28;01mexcept\u001b[39;00m \u001b[38;5;167;01mKeyError\u001b[39;00m:\n\u001b[32m     59\u001b[39m     \u001b[38;5;28;01mraise\u001b[39;00m \u001b[38;5;167;01mRuntimeError\u001b[39;00m(\u001b[38;5;28mself\u001b[39m._err_msg_on_class_not_found(options.kind))\n",
      "\u001b[36mFile \u001b[39m\u001b[32m/opt/anaconda3/envs/demo/lib/python3.11/site-packages/docling/models/easyocr_model.py:84\u001b[39m, in \u001b[36mEasyOcrModel.__init__\u001b[39m\u001b[34m(self, enabled, artifacts_path, options, accelerator_options)\u001b[39m\n\u001b[32m     82\u001b[39m \u001b[38;5;28;01mif\u001b[39;00m \u001b[38;5;28mself\u001b[39m.options.suppress_mps_warnings:\n\u001b[32m     83\u001b[39m     warnings.filterwarnings(\u001b[33m\"\u001b[39m\u001b[33mignore\u001b[39m\u001b[33m\"\u001b[39m, message=\u001b[33m\"\u001b[39m\u001b[33m.*pin_memory.*MPS.*\u001b[39m\u001b[33m\"\u001b[39m)\n\u001b[32m---> \u001b[39m\u001b[32m84\u001b[39m \u001b[38;5;28mself\u001b[39m.reader = \u001b[43measyocr\u001b[49m\u001b[43m.\u001b[49m\u001b[43mReader\u001b[49m\u001b[43m(\u001b[49m\n\u001b[32m     85\u001b[39m \u001b[43m    \u001b[49m\u001b[43mlang_list\u001b[49m\u001b[43m=\u001b[49m\u001b[38;5;28;43mself\u001b[39;49m\u001b[43m.\u001b[49m\u001b[43moptions\u001b[49m\u001b[43m.\u001b[49m\u001b[43mlang\u001b[49m\u001b[43m,\u001b[49m\n\u001b[32m     86\u001b[39m \u001b[43m    \u001b[49m\u001b[43mgpu\u001b[49m\u001b[43m=\u001b[49m\u001b[43muse_gpu\u001b[49m\u001b[43m,\u001b[49m\n\u001b[32m     87\u001b[39m \u001b[43m    \u001b[49m\u001b[43mmodel_storage_directory\u001b[49m\u001b[43m=\u001b[49m\u001b[43mmodel_storage_directory\u001b[49m\u001b[43m,\u001b[49m\n\u001b[32m     88\u001b[39m \u001b[43m    \u001b[49m\u001b[43mrecog_network\u001b[49m\u001b[43m=\u001b[49m\u001b[38;5;28;43mself\u001b[39;49m\u001b[43m.\u001b[49m\u001b[43moptions\u001b[49m\u001b[43m.\u001b[49m\u001b[43mrecog_network\u001b[49m\u001b[43m,\u001b[49m\n\u001b[32m     89\u001b[39m \u001b[43m    \u001b[49m\u001b[43mdownload_enabled\u001b[49m\u001b[43m=\u001b[49m\u001b[43mdownload_enabled\u001b[49m\u001b[43m,\u001b[49m\n\u001b[32m     90\u001b[39m \u001b[43m    \u001b[49m\u001b[43mverbose\u001b[49m\u001b[43m=\u001b[49m\u001b[38;5;28;43;01mFalse\u001b[39;49;00m\u001b[43m,\u001b[49m\n\u001b[32m     91\u001b[39m \u001b[43m\u001b[49m\u001b[43m)\u001b[49m\n",
      "\u001b[36mFile \u001b[39m\u001b[32m/opt/anaconda3/envs/demo/lib/python3.11/site-packages/easyocr/easyocr.py:214\u001b[39m, in \u001b[36mReader.__init__\u001b[39m\u001b[34m(self, lang_list, gpu, model_storage_directory, user_network_directory, detect_network, recog_network, download_enabled, detector, recognizer, verbose, quantize, cudnn_benchmark)\u001b[39m\n\u001b[32m    211\u001b[39m     dict_list[lang] = os.path.join(BASE_PATH, \u001b[33m'\u001b[39m\u001b[33mdict\u001b[39m\u001b[33m'\u001b[39m, lang + \u001b[33m\"\u001b[39m\u001b[33m.txt\u001b[39m\u001b[33m\"\u001b[39m)\n\u001b[32m    213\u001b[39m \u001b[38;5;28;01mif\u001b[39;00m detector:\n\u001b[32m--> \u001b[39m\u001b[32m214\u001b[39m     \u001b[38;5;28mself\u001b[39m.detector = \u001b[38;5;28;43mself\u001b[39;49m\u001b[43m.\u001b[49m\u001b[43minitDetector\u001b[49m\u001b[43m(\u001b[49m\u001b[43mdetector_path\u001b[49m\u001b[43m)\u001b[49m\n\u001b[32m    216\u001b[39m \u001b[38;5;28;01mif\u001b[39;00m recognizer:\n\u001b[32m    217\u001b[39m     \u001b[38;5;28;01mif\u001b[39;00m recog_network == \u001b[33m'\u001b[39m\u001b[33mgeneration1\u001b[39m\u001b[33m'\u001b[39m:\n",
      "\u001b[36mFile \u001b[39m\u001b[32m/opt/anaconda3/envs/demo/lib/python3.11/site-packages/easyocr/easyocr.py:271\u001b[39m, in \u001b[36mReader.initDetector\u001b[39m\u001b[34m(self, detector_path)\u001b[39m\n\u001b[32m    270\u001b[39m \u001b[38;5;28;01mdef\u001b[39;00m\u001b[38;5;250m \u001b[39m\u001b[34minitDetector\u001b[39m(\u001b[38;5;28mself\u001b[39m, detector_path):\n\u001b[32m--> \u001b[39m\u001b[32m271\u001b[39m     \u001b[38;5;28;01mreturn\u001b[39;00m \u001b[38;5;28;43mself\u001b[39;49m\u001b[43m.\u001b[49m\u001b[43mget_detector\u001b[49m\u001b[43m(\u001b[49m\u001b[43mdetector_path\u001b[49m\u001b[43m,\u001b[49m\u001b[43m \u001b[49m\n\u001b[32m    272\u001b[39m \u001b[43m                             \u001b[49m\u001b[43mdevice\u001b[49m\u001b[43m \u001b[49m\u001b[43m=\u001b[49m\u001b[43m \u001b[49m\u001b[38;5;28;43mself\u001b[39;49m\u001b[43m.\u001b[49m\u001b[43mdevice\u001b[49m\u001b[43m,\u001b[49m\u001b[43m \u001b[49m\n\u001b[32m    273\u001b[39m \u001b[43m                             \u001b[49m\u001b[43mquantize\u001b[49m\u001b[43m \u001b[49m\u001b[43m=\u001b[49m\u001b[43m \u001b[49m\u001b[38;5;28;43mself\u001b[39;49m\u001b[43m.\u001b[49m\u001b[43mquantize\u001b[49m\u001b[43m,\u001b[49m\u001b[43m \u001b[49m\n\u001b[32m    274\u001b[39m \u001b[43m                             \u001b[49m\u001b[43mcudnn_benchmark\u001b[49m\u001b[43m \u001b[49m\u001b[43m=\u001b[49m\u001b[43m \u001b[49m\u001b[38;5;28;43mself\u001b[39;49m\u001b[43m.\u001b[49m\u001b[43mcudnn_benchmark\u001b[49m\n\u001b[32m    275\u001b[39m \u001b[43m                             \u001b[49m\u001b[43m)\u001b[49m\n",
      "\u001b[36mFile \u001b[39m\u001b[32m/opt/anaconda3/envs/demo/lib/python3.11/site-packages/easyocr/detection.py:75\u001b[39m, in \u001b[36mget_detector\u001b[39m\u001b[34m(trained_model, device, quantize, cudnn_benchmark)\u001b[39m\n\u001b[32m     74\u001b[39m \u001b[38;5;28;01mdef\u001b[39;00m\u001b[38;5;250m \u001b[39m\u001b[34mget_detector\u001b[39m(trained_model, device=\u001b[33m'\u001b[39m\u001b[33mcpu\u001b[39m\u001b[33m'\u001b[39m, quantize=\u001b[38;5;28;01mTrue\u001b[39;00m, cudnn_benchmark=\u001b[38;5;28;01mFalse\u001b[39;00m):\n\u001b[32m---> \u001b[39m\u001b[32m75\u001b[39m     net = \u001b[43mCRAFT\u001b[49m\u001b[43m(\u001b[49m\u001b[43m)\u001b[49m\n\u001b[32m     77\u001b[39m     \u001b[38;5;28;01mif\u001b[39;00m device == \u001b[33m'\u001b[39m\u001b[33mcpu\u001b[39m\u001b[33m'\u001b[39m:\n\u001b[32m     78\u001b[39m         net.load_state_dict(copyStateDict(torch.load(trained_model, map_location=device, weights_only=\u001b[38;5;28;01mFalse\u001b[39;00m)))\n",
      "\u001b[36mFile \u001b[39m\u001b[32m/opt/anaconda3/envs/demo/lib/python3.11/site-packages/easyocr/craft.py:35\u001b[39m, in \u001b[36mCRAFT.__init__\u001b[39m\u001b[34m(self, pretrained, freeze)\u001b[39m\n\u001b[32m     32\u001b[39m \u001b[38;5;28msuper\u001b[39m(CRAFT, \u001b[38;5;28mself\u001b[39m).\u001b[34m__init__\u001b[39m()\n\u001b[32m     34\u001b[39m \u001b[38;5;250m\u001b[39m\u001b[33;03m\"\"\" Base network \"\"\"\u001b[39;00m\n\u001b[32m---> \u001b[39m\u001b[32m35\u001b[39m \u001b[38;5;28mself\u001b[39m.basenet = \u001b[43mvgg16_bn\u001b[49m\u001b[43m(\u001b[49m\u001b[43mpretrained\u001b[49m\u001b[43m,\u001b[49m\u001b[43m \u001b[49m\u001b[43mfreeze\u001b[49m\u001b[43m)\u001b[49m\n\u001b[32m     37\u001b[39m \u001b[38;5;250m\u001b[39m\u001b[33;03m\"\"\" U network \"\"\"\u001b[39;00m\n\u001b[32m     38\u001b[39m \u001b[38;5;28mself\u001b[39m.upconv1 = double_conv(\u001b[32m1024\u001b[39m, \u001b[32m512\u001b[39m, \u001b[32m256\u001b[39m)\n",
      "\u001b[36mFile \u001b[39m\u001b[32m/opt/anaconda3/envs/demo/lib/python3.11/site-packages/easyocr/model/modules.py:27\u001b[39m, in \u001b[36mvgg16_bn.__init__\u001b[39m\u001b[34m(self, pretrained, freeze)\u001b[39m\n\u001b[32m     25\u001b[39m \u001b[38;5;28msuper\u001b[39m(vgg16_bn, \u001b[38;5;28mself\u001b[39m).\u001b[34m__init__\u001b[39m()\n\u001b[32m     26\u001b[39m \u001b[38;5;28;01mif\u001b[39;00m version.parse(torchvision.__version__) >= version.parse(\u001b[33m'\u001b[39m\u001b[33m0.13\u001b[39m\u001b[33m'\u001b[39m):\n\u001b[32m---> \u001b[39m\u001b[32m27\u001b[39m     vgg_pretrained_features = \u001b[43mmodels\u001b[49m\u001b[43m.\u001b[49m\u001b[43mvgg16_bn\u001b[49m\u001b[43m(\u001b[49m\n\u001b[32m     28\u001b[39m \u001b[43m        \u001b[49m\u001b[43mweights\u001b[49m\u001b[43m=\u001b[49m\u001b[43mmodels\u001b[49m\u001b[43m.\u001b[49m\u001b[43mVGG16_BN_Weights\u001b[49m\u001b[43m.\u001b[49m\u001b[43mDEFAULT\u001b[49m\u001b[43m \u001b[49m\u001b[38;5;28;43;01mif\u001b[39;49;00m\u001b[43m \u001b[49m\u001b[43mpretrained\u001b[49m\u001b[43m \u001b[49m\u001b[38;5;28;43;01melse\u001b[39;49;00m\u001b[43m \u001b[49m\u001b[38;5;28;43;01mNone\u001b[39;49;00m\n\u001b[32m     29\u001b[39m \u001b[43m    \u001b[49m\u001b[43m)\u001b[49m.features\n\u001b[32m     30\u001b[39m \u001b[38;5;28;01melse\u001b[39;00m: \u001b[38;5;66;03m#torchvision.__version__ < 0.13\u001b[39;00m\n\u001b[32m     31\u001b[39m     models.vgg.model_urls[\u001b[33m'\u001b[39m\u001b[33mvgg16_bn\u001b[39m\u001b[33m'\u001b[39m] = models.vgg.model_urls[\u001b[33m'\u001b[39m\u001b[33mvgg16_bn\u001b[39m\u001b[33m'\u001b[39m].replace(\u001b[33m'\u001b[39m\u001b[33mhttps://\u001b[39m\u001b[33m'\u001b[39m, \u001b[33m'\u001b[39m\u001b[33mhttp://\u001b[39m\u001b[33m'\u001b[39m)\n",
      "\u001b[36mFile \u001b[39m\u001b[32m/opt/anaconda3/envs/demo/lib/python3.11/site-packages/torchvision/models/_utils.py:142\u001b[39m, in \u001b[36mkwonly_to_pos_or_kw.<locals>.wrapper\u001b[39m\u001b[34m(*args, **kwargs)\u001b[39m\n\u001b[32m    135\u001b[39m     warnings.warn(\n\u001b[32m    136\u001b[39m         \u001b[33mf\u001b[39m\u001b[33m\"\u001b[39m\u001b[33mUsing \u001b[39m\u001b[38;5;132;01m{\u001b[39;00msequence_to_str(\u001b[38;5;28mtuple\u001b[39m(keyword_only_kwargs.keys()),\u001b[38;5;250m \u001b[39mseparate_last=\u001b[33m'\u001b[39m\u001b[33mand \u001b[39m\u001b[33m'\u001b[39m)\u001b[38;5;132;01m}\u001b[39;00m\u001b[33m as positional \u001b[39m\u001b[33m\"\u001b[39m\n\u001b[32m    137\u001b[39m         \u001b[33mf\u001b[39m\u001b[33m\"\u001b[39m\u001b[33mparameter(s) is deprecated since 0.13 and may be removed in the future. Please use keyword parameter(s) \u001b[39m\u001b[33m\"\u001b[39m\n\u001b[32m    138\u001b[39m         \u001b[33mf\u001b[39m\u001b[33m\"\u001b[39m\u001b[33minstead.\u001b[39m\u001b[33m\"\u001b[39m\n\u001b[32m    139\u001b[39m     )\n\u001b[32m    140\u001b[39m     kwargs.update(keyword_only_kwargs)\n\u001b[32m--> \u001b[39m\u001b[32m142\u001b[39m \u001b[38;5;28;01mreturn\u001b[39;00m \u001b[43mfn\u001b[49m\u001b[43m(\u001b[49m\u001b[43m*\u001b[49m\u001b[43margs\u001b[49m\u001b[43m,\u001b[49m\u001b[43m \u001b[49m\u001b[43m*\u001b[49m\u001b[43m*\u001b[49m\u001b[43mkwargs\u001b[49m\u001b[43m)\u001b[49m\n",
      "\u001b[36mFile \u001b[39m\u001b[32m/opt/anaconda3/envs/demo/lib/python3.11/site-packages/torchvision/models/_utils.py:228\u001b[39m, in \u001b[36mhandle_legacy_interface.<locals>.outer_wrapper.<locals>.inner_wrapper\u001b[39m\u001b[34m(*args, **kwargs)\u001b[39m\n\u001b[32m    225\u001b[39m     \u001b[38;5;28;01mdel\u001b[39;00m kwargs[pretrained_param]\n\u001b[32m    226\u001b[39m     kwargs[weights_param] = default_weights_arg\n\u001b[32m--> \u001b[39m\u001b[32m228\u001b[39m \u001b[38;5;28;01mreturn\u001b[39;00m \u001b[43mbuilder\u001b[49m\u001b[43m(\u001b[49m\u001b[43m*\u001b[49m\u001b[43margs\u001b[49m\u001b[43m,\u001b[49m\u001b[43m \u001b[49m\u001b[43m*\u001b[49m\u001b[43m*\u001b[49m\u001b[43mkwargs\u001b[49m\u001b[43m)\u001b[49m\n",
      "\u001b[36mFile \u001b[39m\u001b[32m/opt/anaconda3/envs/demo/lib/python3.11/site-packages/torchvision/models/vgg.py:459\u001b[39m, in \u001b[36mvgg16_bn\u001b[39m\u001b[34m(weights, progress, **kwargs)\u001b[39m\n\u001b[32m    439\u001b[39m \u001b[38;5;250m\u001b[39m\u001b[33;03m\"\"\"VGG-16-BN from `Very Deep Convolutional Networks for Large-Scale Image Recognition <https://arxiv.org/abs/1409.1556>`__.\u001b[39;00m\n\u001b[32m    440\u001b[39m \n\u001b[32m    441\u001b[39m \u001b[33;03mArgs:\u001b[39;00m\n\u001b[32m   (...)\u001b[39m\u001b[32m    455\u001b[39m \u001b[33;03m    :members:\u001b[39;00m\n\u001b[32m    456\u001b[39m \u001b[33;03m\"\"\"\u001b[39;00m\n\u001b[32m    457\u001b[39m weights = VGG16_BN_Weights.verify(weights)\n\u001b[32m--> \u001b[39m\u001b[32m459\u001b[39m \u001b[38;5;28;01mreturn\u001b[39;00m \u001b[43m_vgg\u001b[49m\u001b[43m(\u001b[49m\u001b[33;43m\"\u001b[39;49m\u001b[33;43mD\u001b[39;49m\u001b[33;43m\"\u001b[39;49m\u001b[43m,\u001b[49m\u001b[43m \u001b[49m\u001b[38;5;28;43;01mTrue\u001b[39;49;00m\u001b[43m,\u001b[49m\u001b[43m \u001b[49m\u001b[43mweights\u001b[49m\u001b[43m,\u001b[49m\u001b[43m \u001b[49m\u001b[43mprogress\u001b[49m\u001b[43m,\u001b[49m\u001b[43m \u001b[49m\u001b[43m*\u001b[49m\u001b[43m*\u001b[49m\u001b[43mkwargs\u001b[49m\u001b[43m)\u001b[49m\n",
      "\u001b[36mFile \u001b[39m\u001b[32m/opt/anaconda3/envs/demo/lib/python3.11/site-packages/torchvision/models/vgg.py:103\u001b[39m, in \u001b[36m_vgg\u001b[39m\u001b[34m(cfg, batch_norm, weights, progress, **kwargs)\u001b[39m\n\u001b[32m    101\u001b[39m     \u001b[38;5;28;01mif\u001b[39;00m weights.meta[\u001b[33m\"\u001b[39m\u001b[33mcategories\u001b[39m\u001b[33m\"\u001b[39m] \u001b[38;5;129;01mis\u001b[39;00m \u001b[38;5;129;01mnot\u001b[39;00m \u001b[38;5;28;01mNone\u001b[39;00m:\n\u001b[32m    102\u001b[39m         _ovewrite_named_param(kwargs, \u001b[33m\"\u001b[39m\u001b[33mnum_classes\u001b[39m\u001b[33m\"\u001b[39m, \u001b[38;5;28mlen\u001b[39m(weights.meta[\u001b[33m\"\u001b[39m\u001b[33mcategories\u001b[39m\u001b[33m\"\u001b[39m]))\n\u001b[32m--> \u001b[39m\u001b[32m103\u001b[39m model = \u001b[43mVGG\u001b[49m\u001b[43m(\u001b[49m\u001b[43mmake_layers\u001b[49m\u001b[43m(\u001b[49m\u001b[43mcfgs\u001b[49m\u001b[43m[\u001b[49m\u001b[43mcfg\u001b[49m\u001b[43m]\u001b[49m\u001b[43m,\u001b[49m\u001b[43m \u001b[49m\u001b[43mbatch_norm\u001b[49m\u001b[43m=\u001b[49m\u001b[43mbatch_norm\u001b[49m\u001b[43m)\u001b[49m\u001b[43m,\u001b[49m\u001b[43m \u001b[49m\u001b[43m*\u001b[49m\u001b[43m*\u001b[49m\u001b[43mkwargs\u001b[49m\u001b[43m)\u001b[49m\n\u001b[32m    104\u001b[39m \u001b[38;5;28;01mif\u001b[39;00m weights \u001b[38;5;129;01mis\u001b[39;00m \u001b[38;5;129;01mnot\u001b[39;00m \u001b[38;5;28;01mNone\u001b[39;00m:\n\u001b[32m    105\u001b[39m     model.load_state_dict(weights.get_state_dict(progress=progress, check_hash=\u001b[38;5;28;01mTrue\u001b[39;00m))\n",
      "\u001b[36mFile \u001b[39m\u001b[32m/opt/anaconda3/envs/demo/lib/python3.11/site-packages/torchvision/models/vgg.py:62\u001b[39m, in \u001b[36mVGG.__init__\u001b[39m\u001b[34m(self, features, num_classes, init_weights, dropout)\u001b[39m\n\u001b[32m     60\u001b[39m     nn.init.constant_(m.bias, \u001b[32m0\u001b[39m)\n\u001b[32m     61\u001b[39m \u001b[38;5;28;01melif\u001b[39;00m \u001b[38;5;28misinstance\u001b[39m(m, nn.Linear):\n\u001b[32m---> \u001b[39m\u001b[32m62\u001b[39m     \u001b[43mnn\u001b[49m\u001b[43m.\u001b[49m\u001b[43minit\u001b[49m\u001b[43m.\u001b[49m\u001b[43mnormal_\u001b[49m\u001b[43m(\u001b[49m\u001b[43mm\u001b[49m\u001b[43m.\u001b[49m\u001b[43mweight\u001b[49m\u001b[43m,\u001b[49m\u001b[43m \u001b[49m\u001b[32;43m0\u001b[39;49m\u001b[43m,\u001b[49m\u001b[43m \u001b[49m\u001b[32;43m0.01\u001b[39;49m\u001b[43m)\u001b[49m\n\u001b[32m     63\u001b[39m     nn.init.constant_(m.bias, \u001b[32m0\u001b[39m)\n",
      "\u001b[36mFile \u001b[39m\u001b[32m/opt/anaconda3/envs/demo/lib/python3.11/site-packages/torch/nn/init.py:264\u001b[39m, in \u001b[36mnormal_\u001b[39m\u001b[34m(tensor, mean, std, generator)\u001b[39m\n\u001b[32m    260\u001b[39m \u001b[38;5;28;01mif\u001b[39;00m torch.overrides.has_torch_function_variadic(tensor):\n\u001b[32m    261\u001b[39m     \u001b[38;5;28;01mreturn\u001b[39;00m torch.overrides.handle_torch_function(\n\u001b[32m    262\u001b[39m         normal_, (tensor,), tensor=tensor, mean=mean, std=std, generator=generator\n\u001b[32m    263\u001b[39m     )\n\u001b[32m--> \u001b[39m\u001b[32m264\u001b[39m \u001b[38;5;28;01mreturn\u001b[39;00m \u001b[43m_no_grad_normal_\u001b[49m\u001b[43m(\u001b[49m\u001b[43mtensor\u001b[49m\u001b[43m,\u001b[49m\u001b[43m \u001b[49m\u001b[43mmean\u001b[49m\u001b[43m,\u001b[49m\u001b[43m \u001b[49m\u001b[43mstd\u001b[49m\u001b[43m,\u001b[49m\u001b[43m \u001b[49m\u001b[43mgenerator\u001b[49m\u001b[43m)\u001b[49m\n",
      "\u001b[36mFile \u001b[39m\u001b[32m/opt/anaconda3/envs/demo/lib/python3.11/site-packages/torch/nn/init.py:82\u001b[39m, in \u001b[36m_no_grad_normal_\u001b[39m\u001b[34m(tensor, mean, std, generator)\u001b[39m\n\u001b[32m     75\u001b[39m \u001b[38;5;28;01mdef\u001b[39;00m\u001b[38;5;250m \u001b[39m\u001b[34m_no_grad_normal_\u001b[39m(\n\u001b[32m     76\u001b[39m     tensor: Tensor,\n\u001b[32m     77\u001b[39m     mean: \u001b[38;5;28mfloat\u001b[39m,\n\u001b[32m     78\u001b[39m     std: \u001b[38;5;28mfloat\u001b[39m,\n\u001b[32m     79\u001b[39m     generator: _Optional[torch.Generator] = \u001b[38;5;28;01mNone\u001b[39;00m,\n\u001b[32m     80\u001b[39m ) -> Tensor:\n\u001b[32m     81\u001b[39m     \u001b[38;5;28;01mwith\u001b[39;00m torch.no_grad():\n\u001b[32m---> \u001b[39m\u001b[32m82\u001b[39m         \u001b[38;5;28;01mreturn\u001b[39;00m \u001b[43mtensor\u001b[49m\u001b[43m.\u001b[49m\u001b[43mnormal_\u001b[49m\u001b[43m(\u001b[49m\u001b[43mmean\u001b[49m\u001b[43m,\u001b[49m\u001b[43m \u001b[49m\u001b[43mstd\u001b[49m\u001b[43m,\u001b[49m\u001b[43m \u001b[49m\u001b[43mgenerator\u001b[49m\u001b[43m=\u001b[49m\u001b[43mgenerator\u001b[49m\u001b[43m)\u001b[49m\n",
      "\u001b[31mKeyboardInterrupt\u001b[39m: "
     ]
    }
   ],
   "source": [
    "result = convert_with_image_annotation(file)"
   ]
  },
  {
   "cell_type": "code",
   "execution_count": null,
   "id": "337829fb",
   "metadata": {},
   "outputs": [
    {
     "name": "stdout",
     "output_type": "stream",
     "text": [
      "<!-- image -->\n",
      "\n",
      "## 1. L ờ i m ở đầ u\n",
      "\n",
      "Bài toán nhận diện biển số xe Việt Nam là một bài toán không còn mới, đã được phát triển dựa trên các phương pháp xử lý ảnh truyền thống và cả những kỹ thuật mới sử dụng Deep Learning. Trong bài toán này tôi chỉ phát triển bài toán phát hiện biển số (một phần trong bài toán nhận diện biển số) dựa trên thuật toán YOLO -Tinyv4 với mục đích:\n",
      "\n",
      "- Hướng dẫn chuẩn bị dữ liệu cho bài toán Object Detection.\n",
      "- Hướng dẫn huấn luyện YOLO -TinyV4 dùng darknet trên Google Colab.\n",
      "\n",
      "## 2. Chu ẩ n b ị d ữ li ệ u\n",
      "\n",
      "## 2.1 Đánh giá bộ d ữ li ệ u\n",
      "\n",
      "Trong bài viết tôi sử dụng bộ dữ liệu biển số xe máy Việt Nam chứa 1750 ảnh, bạn đọc có thể tải tại đây .\n",
      "\n",
      "Hình 14.1: Ảnh biển số trong bộ dữ liệu\n",
      "\n",
      "<!--<annotation kind=\"description\">-->Bái có cảm ảng cấp trong mạnh trị của một vị trí chuyển lại phúc vào thành công tất cả.<!--<annotation/>-->\n",
      "\n",
      "<!-- image -->\n",
      "\n",
      "Ảnh biển số xe được trong bộ dữ liệu được chụp từ một camera tại vị trí kiểm soát xe ra vào trong hầm. Do vậy:\n",
      "\n",
      "- Kích thước các biển số xe không có sự đa dạng, do khoảng cách từ camera đến biển số xe xấp xỉ gần bằng nhau giữa các ảnh.\n",
      "- Ảnh có độ sáng thấp và gần giống nhau do ảnh được chụp trong hầm chung cư.\n",
      "- =&gt; Cần làm đa dạng bộ dữ liệu.\n",
      "\n",
      "## 2.2 Các phương pháp tăng sự đa dạ ng c ủ a b ộ d ữ li ệ u\n",
      "\n",
      "## Đa dạng kích thước của biển số\n",
      "\n",
      "Đa dạng kích thước bằng 2 cách:\n",
      "\n",
      "- Cách 1: Thu nhỏ kích thước biển bằng cách thêm biên kích thước ngẫu nhiên vào ảnh gốc, sau đó resize ảnh bằng kích thước ảnh ban đầu.\n",
      "- Cách 2: Crop ảnh chứa biển số với kích thước ngẫu nhiên, sau đó resize ảnh bằng kích thước ảnh ban đầu.\n",
      "\n",
      "# Cách1 def add\\_boder(image\\_path, output\\_path, low, high):\n",
      "\n",
      "\"\"\" low: kích thước biên thấp nhất (pixel) hight: kích thước biên lớn nhất (pixel)\n",
      "\n",
      "\"\"\"\n",
      "\n",
      "# random các kích thước biên trong khoảng (low, high)\n",
      "\n",
      "## VIETTEL AI RACE\n",
      "\n",
      "## NHẬN DIỆN VỊ TRÍ BIỂN SỐ XE MÁY VIỆT NAM\n",
      "\n",
      "TD048\n",
      "\n",
      "Lần ban hành: 1\n",
      "\n",
      "<!-- image -->\n",
      "\n",
      "<!-- image -->\n",
      "\n",
      "## VIETTEL AI RACE\n",
      "\n",
      "## NHẬN DIỆN VỊ TRÍ BIỂN SỐ XE MÁY VIỆT NAM\n",
      "\n",
      "top = random.randint(low, high)\n",
      "\n",
      "bottom = random.randint(low, high)\n",
      "\n",
      "left = random.randint(low, high)\n",
      "\n",
      "right = random.randint(low, high)\n",
      "\n",
      "image = cv2.imread(image\\_path)\n",
      "\n",
      "original\\_width, original\\_height = image.shape[1], image.shape[0]\n",
      "\n",
      "#sử dụng hàm của opencv để thêm biên image = cv2.copyMakeBorder(image, top, bottom, left, right, cv2.BORDER\\_REPLICATE)\n",
      "\n",
      "#sau đó resize ảnh bằng kích thước ban đầu của ảnh image = cv2.resize(image, (original\\_width, original\\_height))\n",
      "\n",
      "cv2.imwrite(output\\_path, image)\n",
      "\n",
      "Hình 14.2: Ảnh thu được (bên phải) sau khi chạy hàm trên\n",
      "\n",
      "<!-- image -->\n",
      "\n",
      "<!-- image -->\n",
      "\n",
      "# Cách2 def random\\_crop(image\\_path, out\\_path):\n",
      "\n",
      "```\n",
      "image = cv2.imread(image_path) original_width, original_height = image.shape[1], image.shape[0] x_center,y_center = original_height//2, original_width//2 x_left = random.randint(0, x_center//2) x_right = random.randint(original_width-x_center//2, original_width) y_top = random.randint(0, y_center//2) y_bottom = random.randint(original_height-y_center//2, original_width) # crop ra vùng ảnh với kích thước ngẫu nhiên cropped_image = image[y_top:y_bottom, x_left:x_right] # resize ảnh bằng kích thước ảnh ban đầu cropped_image = cv2.resize(cropped_image, (original_width, original_height)) cv2.imwrite(out_path, cropped_image)\n",
      "```\n",
      "\n",
      "TD048\n",
      "\n",
      "Lần ban hành: 1\n",
      "\n",
      "<!-- image -->\n",
      "\n",
      "<!-- image -->\n",
      "\n",
      "## Xoay ảnh\n",
      "\n",
      "import imutils def rotate\\_image(image\\_path, range\\_angle, output\\_path):\n",
      "\n",
      "\"\"\" range\\_angle: Khoảng góc quay\"\"\"\n",
      "\n",
      "image = cv2.imread(image\\_path)\n",
      "\n",
      "#lựa chọn ngẫu nhiên góc quay\n",
      "\n",
      "## VIETTEL AI RACE\n",
      "\n",
      "## NHẬN DIỆN VỊ TRÍ BIỂN SỐ XE MÁY VIỆT NAM\n",
      "\n",
      "TD048\n",
      "\n",
      "Lần ban hành: 1\n",
      "\n",
      "Hình 14.3: Ảnh thu được (bên phải) sau khi chạy hàm trên\n",
      "\n",
      "<!-- image -->\n",
      "\n",
      "<!-- image -->\n",
      "\n",
      "## Thay đổi độ sáng của ảnh\n",
      "\n",
      "def change\\_brightness(image\\_path, output\\_path, value):\n",
      "\n",
      "\"\"\" value: độ sáng thay đổi\"\"\"\n",
      "\n",
      "img=cv2.imread(image\\_path)\n",
      "\n",
      "hsv = cv2.cvtColor(img, cv2.COLOR\\_BGR2HSV)\n",
      "\n",
      "h, s, v = cv2.split(hsv)\n",
      "\n",
      "v = cv2.add(v, value)\n",
      "\n",
      "<!-- formula-not-decoded -->\n",
      "\n",
      "v[v &lt; 0] = 0\n",
      "\n",
      "final\\_hsv = cv2.merge((h, s, v))\n",
      "\n",
      "img = cv2.cvtColor(final\\_hsv, cv2.COLOR\\_HSV2BGR)\n",
      "\n",
      "cv2.imwrite(output\\_path, img)\n",
      "\n",
      "<!-- image -->\n",
      "\n",
      "<!-- image -->\n",
      "\n",
      "Hình 14.4: Độ sáng thay đổi (bên phải)\n",
      "\n",
      "<!-- image -->\n",
      "\n",
      "<!-- image -->\n",
      "\n",
      "## VIETTEL AI RACE\n",
      "\n",
      "## NHẬN DIỆN VỊ TRÍ BIỂN SỐ XE MÁY VIỆT NAM\n",
      "\n",
      "angle = random.randint(-range\\_angle, range\\_angle) img\\_rot = imutils.rotate(image, angle) cv2.imwrite(output\\_path, img\\_rot)\n",
      "\n",
      "Hình 14.5: Ảnh được xoay (bên phải)\n",
      "\n",
      "<!--<annotation kind=\"description\">-->Chỉ có một biểu thực để chạy và cập hàng định nào biểu.<!--<annotation/>-->\n",
      "\n",
      "<!-- image -->\n",
      "\n",
      "## 2.3 Gán nhãn d ữ li ệ u\n",
      "\n",
      "Tool gán nhãn ở đây tôi dùng là labelImg , bạn đọc có thể tải và đọc hướng dẫn sử dụng tại đây .\n",
      "\n",
      "<!-- image -->\n",
      "\n",
      "Hình 14.6: Xác định vùng biển chứa biển số\n",
      "\n",
      "<!--<annotation kind=\"description\">-->Chỉ số mãy cò phải<!--<annotation/>-->\n",
      "\n",
      "<!-- image -->\n",
      "\n",
      "LabelImg hỗ trợ gán nhãn trên cả 2 định dạng PASCAL VOC và YOLO với phần mở rộng file annotation tương ứng là .xml và .txt.\n",
      "\n",
      "Trong bài toán sử dụng mô hình YOLO, tôi lưu file annotation dưới dạng .txt.\n",
      "\n",
      "Hình 14.7: Nội dung trong một file annotation\n",
      "\n",
      "<!-- image -->\n",
      "\n",
      "Mỗi dòng trong một file annotation bao gồm: &lt;object-class&gt; &lt;x&gt; &lt;y&gt; &lt;width&gt; &lt;height&gt;.\n",
      "\n",
      "TD048\n",
      "\n",
      "Lần ban hành: 1\n",
      "\n",
      "<!-- image -->\n",
      "\n",
      "<!-- image -->\n",
      "\n",
      "## VIETTEL AI RACE\n",
      "\n",
      "## NHẬN DIỆN VỊ TRÍ BIỂN SỐ XE MÁY VIỆT NAM\n",
      "\n",
      "TD048\n",
      "\n",
      "Lần ban hành: 1\n",
      "\n",
      "Trong đó: &lt;x&gt; &lt;y&gt; &lt;width&gt; &lt;height&gt; tương ứng là tọa độ trung tâm và kích thước của đối tượng. Các giá trị này đã được chuẩn hóa lại, do vậy giá trị luôn nằm trong đoạn [0,1]. objectclass là chỉ số đánh dấu các classes.\n",
      "\n",
      "Lưu ý: Với bài toán có nhiều nhãn, nhiều người cùng gán nhãn thì cần thống nhất với nhau trước về thứ tự nhãn. Nguyên nhân do trong file annotation chỉ lưu chỉ số (0,1,3,4,...) của nhãn chứ không lưu tên nhãn.\n",
      "\n",
      "Sau khi gán nhãn xong các bạn để file annotation và ảnh tương ứng vào cùng một thư mục .\n",
      "\n",
      "## 3. Hu ấ n luy ệ n mô hình\n",
      "\n",
      "## 3.1 Gi ớ i thi ệ u v ề YOLO-Tinyv4 và darknet\n",
      "\n",
      "## YOLO-Tinyv4\n",
      "\n",
      "YOLOv4 là thuật toán Object Detection, mới được công bố trong thời gian gần đây với sự cải thiện về kết quả đáng kể so với YOLOv3.\n",
      "\n",
      "F\n",
      "\n",
      "Hình 14.8: Sự cải thiện của YOLOv4 ( source)\n",
      "\n",
      "<!--<annotation kind=\"description\">-->Bệ sinh nguyên nhân đồ của MS COCO Object Detection đã kết quan nghược xuất nhiên rõ lại và các chỗng thương.<!--<annotation/>-->\n",
      "\n",
      "<!-- image -->\n",
      "\n",
      "<!-- image -->\n",
      "\n",
      "YOLOv4 cho kết quả real -time khi chạy trên các nền tảng GPU cao cấp. Với mục đích trade -off giữa độ chính xác và tốc độ để có thể chạy trên các nền tảng CPU và GPU thấp hơn thì YOLOTinyv4 được ra đời.\n",
      "\n",
      "<!-- image -->\n",
      "\n",
      "<!-- image -->\n",
      "\n",
      "<!-- image -->\n",
      "\n",
      "## VIETTEL AI RACE\n",
      "\n",
      "## NHẬN DIỆN VỊ TRÍ BIỂN SỐ XE MÁY VIỆT NAM\n",
      "\n",
      "Hình 14.9: YOLOv4 với YOLO -Tinyv4 (source)\n",
      "\n",
      "<!--<annotation kind=\"description\">-->The graph presents a comparison of various object detection models across different categories, measured by their mean square error on COCO val2017 in terms of False Positives (FP) and True Positives (TP). The data uses the mean percentage of accurately classified objects as the ground truth or AP50. The FPS axis is plotted, with higher values indicating better performance. The chart highlights significant performance drops, suggesting either deteriorating model quality over time or potential improvements in future models. This visualization serves to emphasize key advancements or areas requiring more research and development in object detection technologies.<!--<annotation/>-->\n",
      "\n",
      "<!-- image -->\n",
      "\n",
      "Hình 14.10: YOLOTinyv4 trên các nền tảng ( source)\n",
      "\n",
      "<!--<annotation kind=\"description\">-->Nhiều nhu cầu các số việc FPS trong hà dịch.<!--<annotation/>-->\n",
      "\n",
      "<!-- image -->\n",
      "\n",
      "## Darknet\n",
      "\n",
      "Darknet là một framework open source chuyên về Object Detection được viết bằng ngôn ngữ C và CUDA. Darknet dùng để huấn luyện các mô hình YOLO một cách nhanh chóng, dễ sử dụng.\n",
      "\n",
      "<!-- image -->\n",
      "\n",
      "<!-- image -->\n",
      "\n",
      "TD048\n",
      "\n",
      "Lần ban hành: 1\n"
     ]
    }
   ],
   "source": [
    "print(result.document.export_to_markdown(mark_annotations = True, include_annotations=True))"
   ]
  },
  {
   "cell_type": "markdown",
   "id": "befad21c",
   "metadata": {},
   "source": [
    "# Save to MD with external referenced images"
   ]
  },
  {
   "cell_type": "code",
   "execution_count": null,
   "id": "f671ed71",
   "metadata": {},
   "outputs": [],
   "source": [
    "def export_function_md_with_image_ref(conv_res, output_path:str, replace_blank:str=\"_\"):\n",
    "\n",
    "    output_dir = Path(output_path)\n",
    "    output_dir.mkdir(parents=True, exist_ok=True)\n",
    "    doc_filename = conv_res.input.file.stem.replace(\" \", replace_blank)\n",
    "\n",
    "    # Save markdown with externally referenced pictures\n",
    "    md_filename = output_dir / f\"{doc_filename}-with-image-refs.md\"\n",
    "    conv_res.document.save_as_markdown(md_filename, image_mode=ImageRefMode.REFERENCED, include_annotations=True)"
   ]
  },
  {
   "cell_type": "code",
   "execution_count": null,
   "id": "2e300c72",
   "metadata": {},
   "outputs": [],
   "source": [
    "export_function_md_with_image_ref(result, \"outputs\")"
   ]
  }
 ],
 "metadata": {
  "kernelspec": {
   "display_name": "rag",
   "language": "python",
   "name": "python3"
  },
  "language_info": {
   "codemirror_mode": {
    "name": "ipython",
    "version": 3
   },
   "file_extension": ".py",
   "mimetype": "text/x-python",
   "name": "python",
   "nbconvert_exporter": "python",
   "pygments_lexer": "ipython3",
   "version": "3.12.12"
  }
 },
 "nbformat": 4,
 "nbformat_minor": 5
}
