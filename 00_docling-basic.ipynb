{
 "cells": [
  {
   "cell_type": "code",
   "execution_count": 2,
   "id": "e5076f66",
   "metadata": {},
   "outputs": [
    {
     "name": "stderr",
     "output_type": "stream",
     "text": [
      "d:\\Utilities\\miniconda\\envs\\t\\Lib\\site-packages\\tqdm\\auto.py:21: TqdmWarning: IProgress not found. Please update jupyter and ipywidgets. See https://ipywidgets.readthedocs.io/en/stable/user_install.html\n",
      "  from .autonotebook import tqdm as notebook_tqdm\n"
     ]
    },
    {
     "ename": "ModuleNotFoundError",
     "evalue": "No module named 'docling.backends'",
     "output_type": "error",
     "traceback": [
      "\u001b[31m---------------------------------------------------------------------------\u001b[39m",
      "\u001b[31mModuleNotFoundError\u001b[39m                       Traceback (most recent call last)",
      "\u001b[36mCell\u001b[39m\u001b[36m \u001b[39m\u001b[32mIn[2]\u001b[39m\u001b[32m, line 6\u001b[39m\n\u001b[32m      3\u001b[39m \u001b[38;5;28;01mfrom\u001b[39;00m\u001b[38;5;250m \u001b[39m\u001b[34;01mpathlib\u001b[39;00m\u001b[38;5;250m \u001b[39m\u001b[38;5;28;01mimport\u001b[39;00m Path\n\u001b[32m      5\u001b[39m \u001b[38;5;28;01mfrom\u001b[39;00m\u001b[38;5;250m \u001b[39m\u001b[34;01mdocling\u001b[39;00m\u001b[34;01m.\u001b[39;00m\u001b[34;01mdocument_converter\u001b[39;00m\u001b[38;5;250m \u001b[39m\u001b[38;5;28;01mimport\u001b[39;00m DocumentConverter\n\u001b[32m----> \u001b[39m\u001b[32m6\u001b[39m \u001b[38;5;28;01mfrom\u001b[39;00m\u001b[38;5;250m \u001b[39m\u001b[34;01mdocling\u001b[39;00m\u001b[34;01m.\u001b[39;00m\u001b[34;01mbackends\u001b[39;00m\u001b[34;01m.\u001b[39;00m\u001b[34;01mpdf\u001b[39;00m\u001b[38;5;250m \u001b[39m\u001b[38;5;28;01mimport\u001b[39;00m PyPdfiumDocumentBackend\n\u001b[32m      7\u001b[39m \u001b[38;5;28;01mfrom\u001b[39;00m\u001b[38;5;250m \u001b[39m\u001b[34;01mdocling\u001b[39;00m\u001b[34;01m.\u001b[39;00m\u001b[34;01mpipelines\u001b[39;00m\u001b[38;5;250m \u001b[39m\u001b[38;5;28;01mimport\u001b[39;00m StandardPdfPipeline\n\u001b[32m      8\u001b[39m \u001b[38;5;28;01mfrom\u001b[39;00m\u001b[38;5;250m \u001b[39m\u001b[34;01mdocling\u001b[39;00m\u001b[34;01m.\u001b[39;00m\u001b[34;01mpipelines\u001b[39;00m\u001b[34;01m.\u001b[39;00m\u001b[34;01mconfig\u001b[39;00m\u001b[38;5;250m \u001b[39m\u001b[38;5;28;01mimport\u001b[39;00m PdfFormatOption, PdfPipelineOptions\n",
      "\u001b[31mModuleNotFoundError\u001b[39m: No module named 'docling.backends'"
     ]
    }
   ],
   "source": [
    "import os\n",
    "from io import BytesIO\n",
    "from pathlib import Path\n",
    "\n",
    "from docling.document_converter import DocumentConverter\n",
    "from docling.backends.pdf import PyPdfiumDocumentBackend\n",
    "from docling.pipelines import StandardPdfPipeline\n",
    "from docling.pipelines.config import PdfFormatOption, PdfPipelineOptions\n",
    "from docling.protos.base_pb2 import DocumentStream, InputFormat\n",
    "from docling.protos.pdf_options_pb2 import TableFormerMode\n",
    "\n",
    "# Giả sử bạn có hàm get_object để lấy file từ S3 hoặc một nguồn lưu trữ khác\n",
    "# from my_s3_utils import get_object\n",
    "\n",
    "def doc_converter():\n",
    "    \"\"\"\n",
    "    Tạo một document converter với các tùy chọn được tùy chỉnh.\n",
    "    \"\"\"\n",
    "    # Tải các model cần thiết từ Hugging Face về máy, ví dụ như model cho việc nhận dạng bảng.\n",
    "    # Việc này chỉ cần làm một lần.\n",
    "    tmp_path = StandardPdfPipeline.download_models_hf(local_dir=Path(\"/tmp/docling_models\"))\n",
    "\n",
    "    # Bắt đầu cấu hình pipeline cho file PDF\n",
    "    pdf_options = PdfPipelineOptions(artifacts_path=tmp_path)\n",
    "\n",
    "    # Tùy chỉnh các lựa chọn:\n",
    "    pdf_options.do_ocr = False  # Giả sử đây là file PDF gốc (native), không phải file scan.\n",
    "    pdf_options.do_table_structure = True  # BẬT tính năng nhận dạng cấu trúc bảng.\n",
    "    pdf_options.table_structure_options.do_cell_matching = True # Bật tính năng khớp ô trong bảng.\n",
    "    pdf_options.ocr_options.use_gpu = False # Không dùng GPU cho OCR (vì đã tắt OCR)\n",
    "\n",
    "    # Đây là tùy chọn quan trọng nhất!\n",
    "    # Sử dụng chế độ 'ACCURATE' của TableFormer để có độ chính xác cao nhất khi nhận dạng bảng.\n",
    "    pdf_options.table_structure_options.mode = TableFormerMode.ACCURATE\n",
    "\n",
    "    doc_converter = (\n",
    "        DocumentConverter(\n",
    "            # Áp dụng các tùy chọn đã cấu hình cho định dạng PDF\n",
    "            format_options={\n",
    "                InputFormat.PDF: PdfFormatOption(\n",
    "                    pipeline_options=pdf_options,\n",
    "                    backend=PyPdfiumDocumentBackend, # Sử dụng backend PyPdfium\n",
    "                ),\n",
    "            },\n",
    "        )\n",
    "    )\n",
    "    return doc_converter\n",
    "\n",
    "# --- Luồng xử lý chính ---\n",
    "\n",
    "# 1. Khởi tạo converter đã được tùy chỉnh\n",
    "converter = doc_converter()\n",
    "\n",
    "# 2. Lấy file PDF từ một nguồn (ví dụ: S3)\n",
    "# source_bucket = \"my-bucket\"\n",
    "# file_key = \"reports/financial_report.pdf\"\n",
    "# body = get_object(bucket=source_bucket, key=file_key)\n",
    "# file_name = os.path.basename(file_key)\n",
    "\n",
    "# Để demo, ta đọc file từ local\n",
    "file_path = \"private-test-input\\\\Public001.pdf\" # Thay bằng đường dẫn file PDF của bạn\n",
    "file_name = os.path.basename(file_path)\n",
    "with open(file_path, \"rb\") as f:\n",
    "    body_stream = BytesIO(f.read())\n",
    "\n",
    "# 3. Chuẩn bị đầu vào cho converter\n",
    "source = DocumentStream(name=file_name, stream=body_stream)\n",
    "\n",
    "# 4. Thực hiện chuyển đổi\n",
    "result = converter.convert(source=source)\n",
    "\n",
    "# 5. Xuất kết quả ra định dạng Markdown\n",
    "md_text = result.document.export_to_markdown()\n",
    "\n",
    "# 6. In kết quả\n",
    "print(md_text)"
   ]
  },
  {
   "cell_type": "code",
   "execution_count": 6,
   "id": "4792cbf4",
   "metadata": {},
   "outputs": [
    {
     "name": "stdout",
     "output_type": "stream",
     "text": [
      "Name: docling\n",
      "Version: 2.57.0\n",
      "Summary: SDK and CLI for parsing PDF, DOCX, HTML, and more, to a unified document representation for powering downstream workflows such as gen AI applications.\n",
      "Home-page: https://github.com/docling-project/docling\n",
      "Author: \n",
      "Author-email: Christoph Auer <cau@zurich.ibm.com>, Michele Dolfi <dol@zurich.ibm.com>, Maxim Lysak <mly@zurich.ibm.com>, Nikos Livathinos <nli@zurich.ibm.com>, Ahmed Nassar <ahn@zurich.ibm.com>, Panos Vagenas <pva@zurich.ibm.com>, Peter Staar <taa@zurich.ibm.com>\n",
      "License-Expression: MIT\n",
      "Location: D:\\Utilities\\miniconda\\envs\\t\\Lib\\site-packages\n",
      "Requires: accelerate, beautifulsoup4, certifi, docling-core, docling-ibm-models, docling-parse, filetype, huggingface_hub, lxml, marko, openpyxl, pandas, pillow, pluggy, polyfactory, pydantic, pydantic-settings, pylatexenc, pypdfium2, python-docx, python-pptx, rapidocr, requests, rtree, scipy, tqdm, typer\n",
      "Required-by: \n"
     ]
    }
   ],
   "source": [
    "!pip show docling"
   ]
  },
  {
   "cell_type": "code",
   "execution_count": 5,
   "id": "3b468697",
   "metadata": {},
   "outputs": [
    {
     "name": "stderr",
     "output_type": "stream",
     "text": [
      "Traceback (most recent call last):\n",
      "  File \"<string>\", line 1, in <module>\n",
      "AttributeError: module 'docling' has no attribute '__version__'\n"
     ]
    }
   ],
   "source": [
    "!python -c \"import docling; print(docling.__version__); print(dir(docling))\""
   ]
  },
  {
   "cell_type": "code",
   "execution_count": null,
   "id": "f417bf3d",
   "metadata": {},
   "outputs": [],
   "source": []
  }
 ],
 "metadata": {
  "kernelspec": {
   "display_name": "t",
   "language": "python",
   "name": "python3"
  },
  "language_info": {
   "codemirror_mode": {
    "name": "ipython",
    "version": 3
   },
   "file_extension": ".py",
   "mimetype": "text/x-python",
   "name": "python",
   "nbconvert_exporter": "python",
   "pygments_lexer": "ipython3",
   "version": "3.11.13"
  }
 },
 "nbformat": 4,
 "nbformat_minor": 5
}
